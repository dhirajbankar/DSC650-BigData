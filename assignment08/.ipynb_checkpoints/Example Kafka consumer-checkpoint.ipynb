{
 "cells": [
  {
   "cell_type": "code",
   "execution_count": 13,
   "id": "difficult-candidate",
   "metadata": {},
   "outputs": [],
   "source": [
    "import json\n",
    "\n",
    "from kafka import KafkaConsumer"
   ]
  },
  {
   "cell_type": "markdown",
   "id": "level-recording",
   "metadata": {},
   "source": [
    "### Configuration Parameters"
   ]
  },
  {
   "cell_type": "markdown",
   "id": "saving-corpus",
   "metadata": {},
   "source": [
    "#### TODO: Change the configuration prameters to the appropriate values for your setup."
   ]
  },
  {
   "cell_type": "code",
   "execution_count": 14,
   "id": "possible-deposit",
   "metadata": {},
   "outputs": [
    {
     "data": {
      "text/plain": [
       "{'bootstrap_servers': ['kafka.kafka.svc.cluster.local:9092'],\n",
       " 'first_name': 'Santosh',\n",
       " 'last_name': 'Omprakash',\n",
       " 'client_id': 'OmprakashSantosh',\n",
       " 'topic_prefix': 'OmprakashSantosh'}"
      ]
     },
     "execution_count": 14,
     "metadata": {},
     "output_type": "execute_result"
    }
   ],
   "source": [
    "config = dict(\n",
    "    bootstrap_servers=['kafka.kafka.svc.cluster.local:9092'],\n",
    "    first_name='Dhiraj',\n",
    "    last_name='Bankar'\n",
    ")\n",
    "\n",
    "config['client_id'] = '{}{}'.format(\n",
    "    config['last_name'], \n",
    "    config['first_name']\n",
    ")\n",
    "config['topic_prefix'] = '{}{}'.format(\n",
    "    config['last_name'], \n",
    "    config['first_name']\n",
    ")\n",
    "\n",
    "config"
   ]
  },
  {
   "cell_type": "code",
   "execution_count": 15,
   "id": "technical-commander",
   "metadata": {},
   "outputs": [],
   "source": [
    "general_consumer = KafkaConsumer(\n",
    "    bootstrap_servers=config['bootstrap_servers']\n",
    ")"
   ]
  },
  {
   "cell_type": "code",
   "execution_count": 16,
   "id": "fitting-warrior",
   "metadata": {},
   "outputs": [
    {
     "data": {
      "text/plain": [
       "{'AdamCurry-accelerations',\n",
       " 'AdamCurry-locations',\n",
       " 'AtmadjaRio-accelerations',\n",
       " 'AtmadjaRio-locations',\n",
       " 'ByardMegan-accelerations',\n",
       " 'ByardMegan-locations',\n",
       " 'CurryAdam-accelerations',\n",
       " 'CurryAdam-locations',\n",
       " 'DoeJohn-accelerations',\n",
       " 'DoeJohn-locations',\n",
       " 'DoeJohn-simple',\n",
       " 'DoeagerJohn-accelerations',\n",
       " 'DoeagerJohn-locations',\n",
       " 'EagerBrian-accelerations',\n",
       " 'EagerBrian-locations',\n",
       " 'EdmundsEvan-accelerations',\n",
       " 'EdmundsEvan-locations',\n",
       " 'FoxAndrea-accelerations',\n",
       " 'FoxAndrea-locations',\n",
       " 'LoydSam-accelerations',\n",
       " 'LoydSam-locations',\n",
       " 'MalenchikAli-locations',\n",
       " 'OkeOsmond-accelerations',\n",
       " 'OkeOsmond-locations',\n",
       " 'OmprakashSantosh-accelerations',\n",
       " 'OmprakashSantosh-locations',\n",
       " 'OpitzNeil-accelerations',\n",
       " 'OpitzNeil-locations',\n",
       " 'PayneBarbara-accelerations',\n",
       " 'PayneBarbara-locations',\n",
       " 'SahaDisha-accelerations',\n",
       " 'SahaDisha-locations',\n",
       " 'SearsSamuel-accelerations',\n",
       " 'SearsSamuel-locations',\n",
       " 'SuryaBhushan-accelerations',\n",
       " 'SuryaBhushan-locations'}"
      ]
     },
     "execution_count": 16,
     "metadata": {},
     "output_type": "execute_result"
    }
   ],
   "source": [
    "general_consumer.topics()"
   ]
  },
  {
   "cell_type": "markdown",
   "id": "expired-consumption",
   "metadata": {},
   "source": [
    "Close the consumer, waiting indefinitely for any needed cleanup."
   ]
  },
  {
   "cell_type": "code",
   "execution_count": 17,
   "id": "academic-bolivia",
   "metadata": {},
   "outputs": [],
   "source": [
    "general_consumer.close()"
   ]
  },
  {
   "cell_type": "code",
   "execution_count": 18,
   "id": "rotary-spencer",
   "metadata": {},
   "outputs": [],
   "source": [
    "def create_kafka_consumer(topics, config=config):\n",
    "    bootstrap_servers = config['bootstrap_servers']\n",
    "    client_id = config['client_id']\n",
    "    topic_prefix = config['topic_prefix']    \n",
    "    topic_list = ['{}-{}'.format(topic_prefix, topic) for topic in topics]\n",
    "    \n",
    "    return KafkaConsumer(\n",
    "        *topic_list,\n",
    "        client_id=client_id,\n",
    "        bootstrap_servers=bootstrap_servers,\n",
    "        auto_offset_reset='earliest',\n",
    "        enable_auto_commit=False,\n",
    "        value_deserializer=lambda x: json.loads(x)\n",
    "    )\n",
    "\n",
    "consumer = create_kafka_consumer(['locations', 'accelerations'])"
   ]
  },
  {
   "cell_type": "markdown",
   "id": "little-knight",
   "metadata": {},
   "source": [
    "Gets a list of this consumer's current subscriptions"
   ]
  },
  {
   "cell_type": "code",
   "execution_count": 19,
   "id": "unusual-sound",
   "metadata": {},
   "outputs": [
    {
     "data": {
      "text/plain": [
       "{'OmprakashSantosh-accelerations', 'OmprakashSantosh-locations'}"
      ]
     },
     "execution_count": 19,
     "metadata": {},
     "output_type": "execute_result"
    }
   ],
   "source": [
    "consumer.subscription()"
   ]
  },
  {
   "cell_type": "markdown",
   "id": "emerging-karma",
   "metadata": {},
   "source": [
    "The following function prints messages from the current consumer subscriptions. It will continue until manually stopped."
   ]
  },
  {
   "cell_type": "code",
   "execution_count": 20,
   "id": "minor-crisis",
   "metadata": {},
   "outputs": [
    {
     "name": "stdout",
     "output_type": "stream",
     "text": [
      "Message metadata:\n",
      "  Topic: OmprakashSantosh-locations\n",
      "  Partition: 0\n",
      "  Offset: 0\n",
      "Message Key: 42337a5a8e414f1082ce8598e7611d51\n",
      "Message Value:\n",
      "  {\n",
      "    \"key1\": \"value1\",\n",
      "    \"key2\": \"value2\"\n",
      "  }\n",
      "\n",
      "Message metadata:\n",
      "  Topic: OmprakashSantosh-accelerations\n",
      "  Partition: 0\n",
      "  Offset: 0\n",
      "Message Key: 3155fee6d416466093705c2d149bff7b\n",
      "Message Value:\n",
      "  {\n",
      "    \"key1\": \"value1\",\n",
      "    \"key2\": \"value2\"\n",
      "  }\n",
      "\n",
      "STOPPING MESSAGE CONSUMER\n"
     ]
    }
   ],
   "source": [
    "def print_messages(consumer=consumer):\n",
    "    try:\n",
    "        for message in consumer:\n",
    "                msg_metadata = 'Message metadata: {}:{}:{}'.format(\n",
    "                    message.topic, message.partition, message.offset\n",
    "                )\n",
    "\n",
    "                if message.key is not None:\n",
    "                    msg_key = message.key.decode('utf-8')\n",
    "                else:\n",
    "                    msg_key = ''\n",
    "                msg_value = json.dumps(message.value, indent=2)\n",
    "                msg_value = '\\n'.join(['  {}'.format(value) for value in msg_value.split('\\n')])\n",
    "\n",
    "                print('Message metadata:')\n",
    "                print('  Topic: {}'.format(message.topic))\n",
    "                print('  Partition: {}'.format(message.partition))\n",
    "                print('  Offset: {}'.format(message.offset))\n",
    "                print('Message Key: {}'.format(msg_key))\n",
    "                print('Message Value:')\n",
    "                print(msg_value)\n",
    "                print()\n",
    "    except KeyboardInterrupt:\n",
    "        print(\"STOPPING MESSAGE CONSUMER\")\n",
    "        \n",
    "print_messages()"
   ]
  },
  {
   "cell_type": "markdown",
   "id": "middle-visit",
   "metadata": {},
   "source": [
    "Close the consumer, waiting indefinitely for any needed cleanup."
   ]
  },
  {
   "cell_type": "code",
   "execution_count": 21,
   "id": "sacred-techno",
   "metadata": {},
   "outputs": [],
   "source": [
    "consumer.close()"
   ]
  },
  {
   "cell_type": "code",
   "execution_count": null,
   "id": "unexpected-spotlight",
   "metadata": {},
   "outputs": [],
   "source": []
  }
 ],
 "metadata": {
  "kernelspec": {
   "display_name": "Python 3",
   "language": "python",
   "name": "python3"
  },
  "language_info": {
   "codemirror_mode": {
    "name": "ipython",
    "version": 3
   },
   "file_extension": ".py",
   "mimetype": "text/x-python",
   "name": "python",
   "nbconvert_exporter": "python",
   "pygments_lexer": "ipython3",
   "version": "3.8.8"
  }
 },
 "nbformat": 4,
 "nbformat_minor": 5
}
