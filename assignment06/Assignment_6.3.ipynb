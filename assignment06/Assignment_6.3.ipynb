{
 "cells": [
  {
   "cell_type": "code",
   "execution_count": 1,
   "id": "essential-insight",
   "metadata": {},
   "outputs": [
    {
     "name": "stdout",
     "output_type": "stream",
     "text": [
      "Collecting opencv-python\n",
      "  Downloading opencv_python-4.5.2.54-cp38-cp38-manylinux2014_x86_64.whl (51.0 MB)\n",
      "\u001b[K     |████████████████████████████████| 51.0 MB 9.7 kB/s  eta 0:00:01   |█████▊                          | 9.1 MB 3.6 MB/s eta 0:00:12\n",
      "\u001b[?25hRequirement already satisfied: numpy>=1.17.3 in /opt/conda/lib/python3.8/site-packages (from opencv-python) (1.19.5)\n",
      "Installing collected packages: opencv-python\n",
      "Successfully installed opencv-python-4.5.2.54\n",
      "Note: you may need to restart the kernel to use updated packages.\n"
     ]
    }
   ],
   "source": [
    "pip install opencv-python"
   ]
  },
  {
   "cell_type": "code",
   "execution_count": 2,
   "id": "fifteen-value",
   "metadata": {},
   "outputs": [
    {
     "name": "stdout",
     "output_type": "stream",
     "text": [
      "Downloading data from https://storage.googleapis.com/tensorflow/keras-applications/resnet/resnet50_weights_tf_dim_ordering_tf_kernels.h5\n",
      "102973440/102967424 [==============================] - 5s 0us/step\n",
      "leaves.jpeg\n",
      "face.jpg\n",
      "sails.jpg\n",
      "mountain.jpg\n",
      "dog_image.jpeg\n",
      "tulip.jpg\n",
      "car_race.jpg\n"
     ]
    }
   ],
   "source": [
    "from tensorflow.keras.applications.resnet50 import ResNet50\n",
    "from tensorflow.keras.preprocessing import image\n",
    "from tensorflow.keras.applications.resnet50 import preprocess_input, decode_predictions\n",
    "import numpy as np\n",
    "import os, cv2\n",
    "\n",
    "model = ResNet50(weights='imagenet')\n",
    "\n",
    "img_path = 'images'\n",
    "\n",
    "images = os.listdir(img_path)\n",
    "\n",
    "for i,name in enumerate(images):\n",
    "    print(name)"
   ]
  },
  {
   "cell_type": "code",
   "execution_count": 3,
   "id": "caring-andorra",
   "metadata": {},
   "outputs": [
    {
     "name": "stdout",
     "output_type": "stream",
     "text": [
      "Downloading data from https://storage.googleapis.com/download.tensorflow.org/data/imagenet_class_index.json\n",
      "40960/35363 [==================================] - 0s 1us/step\n",
      "('leaves.jpeg', [('n03325584', 'feather_boa', 0.9214795), ('n03724870', 'mask', 0.007529321), ('n13133613', 'ear', 0.007031317)])\n",
      "('face.jpg', [('n03255030', 'dumbbell', 0.16447403), ('n03970156', 'plunger', 0.07434542), ('n04350905', 'suit', 0.06821001)])\n",
      "('sails.jpg', [('n03388043', 'fountain', 0.5505136), ('n04147183', 'schooner', 0.0990495), ('n03743016', 'megalith', 0.082701765)])\n",
      "('mountain.jpg', [('n09468604', 'valley', 0.5485007), ('n03388043', 'fountain', 0.20469311), ('n09193705', 'alp', 0.0893717)])\n",
      "('dog_image.jpeg', [('n02099712', 'Labrador_retriever', 0.38258508), ('n02099601', 'golden_retriever', 0.2927683), ('n02104029', 'kuvasz', 0.23491032)])\n",
      "('tulip.jpg', [('n07718747', 'artichoke', 0.47765028), ('n04507155', 'umbrella', 0.19606842), ('n03991062', 'pot', 0.07105192)])\n",
      "('car_race.jpg', [('n02930766', 'cab', 0.53403914), ('n03977966', 'police_van', 0.18049975), ('n04467665', 'trailer_truck', 0.100334756)])\n"
     ]
    }
   ],
   "source": [
    "for i,name in enumerate(images):\n",
    "    \n",
    "    if name != '.ipynb_checkpoints':\n",
    "        img = cv2.imread(img_path + '/' + name)\n",
    "        img = cv2.resize(img, (224,224))\n",
    "        x = image.img_to_array(img)\n",
    "        x = np.expand_dims(x, axis=0)\n",
    "        x = preprocess_input(x)\n",
    "\n",
    "        preds = model.predict(x)\n",
    "        \n",
    "        decpr = name, decode_predictions(preds, top=3)[0]\n",
    "\n",
    "        print(decpr) \n",
    "        \n",
    "        with open('results/6_3_predictions.txt', 'w') as f:\n",
    "            f.write(decpr[0])\n",
    "    else:\n",
    "        pass"
   ]
  },
  {
   "cell_type": "code",
   "execution_count": null,
   "id": "welsh-reunion",
   "metadata": {},
   "outputs": [],
   "source": []
  },
  {
   "cell_type": "code",
   "execution_count": null,
   "id": "little-charge",
   "metadata": {},
   "outputs": [],
   "source": []
  },
  {
   "cell_type": "code",
   "execution_count": null,
   "id": "independent-humidity",
   "metadata": {},
   "outputs": [],
   "source": []
  },
  {
   "cell_type": "code",
   "execution_count": null,
   "id": "amino-generator",
   "metadata": {},
   "outputs": [],
   "source": []
  },
  {
   "cell_type": "code",
   "execution_count": null,
   "id": "spatial-digest",
   "metadata": {},
   "outputs": [],
   "source": []
  }
 ],
 "metadata": {
  "kernelspec": {
   "display_name": "Python 3",
   "language": "python",
   "name": "python3"
  },
  "language_info": {
   "codemirror_mode": {
    "name": "ipython",
    "version": 3
   },
   "file_extension": ".py",
   "mimetype": "text/x-python",
   "name": "python",
   "nbconvert_exporter": "python",
   "pygments_lexer": "ipython3",
   "version": "3.8.8"
  }
 },
 "nbformat": 4,
 "nbformat_minor": 5
}
