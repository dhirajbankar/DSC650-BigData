{
 "cells": [
  {
   "cell_type": "code",
   "execution_count": 1,
   "id": "continent-metro",
   "metadata": {},
   "outputs": [],
   "source": [
    "from keras.datasets import cifar10\n",
    "from keras.utils import to_categorical\n",
    "from keras.preprocessing.image import ImageDataGenerator\n",
    "import pandas as pd\n",
    "import matplotlib.pyplot as plt\n",
    "\n",
    "(x_train, y_train), (x_test, y_test) = cifar10.load_data()"
   ]
  },
  {
   "cell_type": "code",
   "execution_count": 2,
   "id": "suspended-spelling",
   "metadata": {},
   "outputs": [
    {
     "data": {
      "text/plain": [
       "((50000, 32, 32, 3), (50000, 1))"
      ]
     },
     "execution_count": 2,
     "metadata": {},
     "output_type": "execute_result"
    }
   ],
   "source": [
    "x_train.shape, y_train.shape"
   ]
  },
  {
   "cell_type": "code",
   "execution_count": 3,
   "id": "three-genealogy",
   "metadata": {},
   "outputs": [
    {
     "data": {
      "text/plain": [
       "((10000, 32, 32, 3), (10000, 1))"
      ]
     },
     "execution_count": 3,
     "metadata": {},
     "output_type": "execute_result"
    }
   ],
   "source": [
    "x_test.shape, y_test.shape"
   ]
  },
  {
   "cell_type": "code",
   "execution_count": 4,
   "id": "supported-wholesale",
   "metadata": {},
   "outputs": [],
   "source": [
    "# Preprocess the data (these are NumPy arrays)\n",
    "x_train = x_train.astype(\"float32\")\n",
    "x_test = x_test.astype(\"float32\")\n",
    "\n",
    "y_train = to_categorical(y_train)\n",
    "y_test = to_categorical(y_test)"
   ]
  },
  {
   "cell_type": "code",
   "execution_count": 5,
   "id": "danish-confirmation",
   "metadata": {},
   "outputs": [],
   "source": [
    "# Reserve 10,000 samples for validation\n",
    "x_val = x_train[-10000:]\n",
    "y_val = y_train[-10000:]\n",
    "x_train_2 = x_train[:-10000]\n",
    "y_train_2 = y_train[:-10000]"
   ]
  },
  {
   "cell_type": "code",
   "execution_count": 6,
   "id": "functional-salvation",
   "metadata": {},
   "outputs": [],
   "source": [
    "train_datagen = ImageDataGenerator(rescale=1./255,\n",
    "                                  rotation_range=40,\n",
    "                                  width_shift_range=0.2,\n",
    "                                  height_shift_range=0.2,\n",
    "                                  shear_range=0.2,\n",
    "                                  zoom_range=0.2,\n",
    "                                  horizontal_flip=True)\n",
    "\n",
    "test_datagen = ImageDataGenerator(rescale=1./255)\n",
    "\n",
    "train_generator = train_datagen.flow(x_train_2, y_train_2,  batch_size=32)\n",
    "\n",
    "validation_generator = train_datagen.flow(x_val, y_val, batch_size=32)"
   ]
  },
  {
   "cell_type": "code",
   "execution_count": 7,
   "id": "medical-saudi",
   "metadata": {},
   "outputs": [
    {
     "name": "stdout",
     "output_type": "stream",
     "text": [
      "Model: \"sequential\"\n",
      "_________________________________________________________________\n",
      "Layer (type)                 Output Shape              Param #   \n",
      "=================================================================\n",
      "conv2d (Conv2D)              (None, 30, 30, 32)        896       \n",
      "_________________________________________________________________\n",
      "max_pooling2d (MaxPooling2D) (None, 15, 15, 32)        0         \n",
      "_________________________________________________________________\n",
      "conv2d_1 (Conv2D)            (None, 13, 13, 64)        18496     \n",
      "_________________________________________________________________\n",
      "max_pooling2d_1 (MaxPooling2 (None, 6, 6, 64)          0         \n",
      "_________________________________________________________________\n",
      "conv2d_2 (Conv2D)            (None, 4, 4, 64)          36928     \n",
      "_________________________________________________________________\n",
      "max_pooling2d_2 (MaxPooling2 (None, 2, 2, 64)          0         \n",
      "_________________________________________________________________\n",
      "flatten (Flatten)            (None, 256)               0         \n",
      "_________________________________________________________________\n",
      "dropout (Dropout)            (None, 256)               0         \n",
      "_________________________________________________________________\n",
      "dense (Dense)                (None, 64)                16448     \n",
      "_________________________________________________________________\n",
      "dense_1 (Dense)              (None, 10)                650       \n",
      "=================================================================\n",
      "Total params: 73,418\n",
      "Trainable params: 73,418\n",
      "Non-trainable params: 0\n",
      "_________________________________________________________________\n"
     ]
    }
   ],
   "source": [
    "#instantiate the model\n",
    "from keras import models\n",
    "from keras import layers\n",
    "\n",
    "model = models.Sequential()\n",
    "model.add(layers.Conv2D(32, (3,3), activation='relu', input_shape=(32,32,3)))\n",
    "model.add(layers.MaxPooling2D(2,2))\n",
    "model.add(layers.Conv2D(64, (3,3), activation='relu'))\n",
    "model.add(layers.MaxPooling2D(2,2))\n",
    "model.add(layers.Conv2D(64, (3,3), activation='relu'))\n",
    "model.add(layers.MaxPooling2D(2,2))\n",
    "model.add(layers.Flatten())\n",
    "model.add(layers.Dropout(0.5))\n",
    "model.add(layers.Dense(64, activation='relu'))\n",
    "model.add(layers.Dense(10, activation='softmax'))\n",
    "\n",
    "model.summary()"
   ]
  },
  {
   "cell_type": "code",
   "execution_count": 8,
   "id": "remarkable-independence",
   "metadata": {},
   "outputs": [],
   "source": [
    "from keras import optimizers\n",
    "\n",
    "model.compile(optimizer=optimizers.RMSprop(lr=1e-4),\n",
    "             loss='categorical_crossentropy',\n",
    "             metrics=['accuracy'])"
   ]
  },
  {
   "cell_type": "code",
   "execution_count": 9,
   "id": "voluntary-parts",
   "metadata": {},
   "outputs": [
    {
     "name": "stderr",
     "output_type": "stream",
     "text": [
      "/opt/conda/lib/python3.8/site-packages/tensorflow/python/keras/engine/training.py:1844: UserWarning: `Model.fit_generator` is deprecated and will be removed in a future version. Please use `Model.fit`, which supports generators.\n",
      "  warnings.warn('`Model.fit_generator` is deprecated and '\n"
     ]
    },
    {
     "name": "stdout",
     "output_type": "stream",
     "text": [
      "Epoch 1/30\n",
      "1250/1250 [==============================] - 62s 48ms/step - loss: 2.2082 - accuracy: 0.1596 - val_loss: 1.9667 - val_accuracy: 0.2544\n",
      "Epoch 2/30\n",
      "1250/1250 [==============================] - 59s 47ms/step - loss: 1.9785 - accuracy: 0.2525 - val_loss: 1.8877 - val_accuracy: 0.2911\n",
      "Epoch 3/30\n",
      "1250/1250 [==============================] - 59s 47ms/step - loss: 1.9106 - accuracy: 0.2892 - val_loss: 1.8379 - val_accuracy: 0.3208\n",
      "Epoch 4/30\n",
      "1250/1250 [==============================] - 53s 42ms/step - loss: 1.8577 - accuracy: 0.3084 - val_loss: 1.7903 - val_accuracy: 0.3439\n",
      "Epoch 5/30\n",
      "1250/1250 [==============================] - 52s 42ms/step - loss: 1.8123 - accuracy: 0.3285 - val_loss: 1.7462 - val_accuracy: 0.3628\n",
      "Epoch 6/30\n",
      "1250/1250 [==============================] - 57s 45ms/step - loss: 1.7827 - accuracy: 0.3428 - val_loss: 1.7158 - val_accuracy: 0.3694\n",
      "Epoch 7/30\n",
      "1250/1250 [==============================] - 59s 47ms/step - loss: 1.7572 - accuracy: 0.3522 - val_loss: 1.6853 - val_accuracy: 0.3892\n",
      "Epoch 8/30\n",
      "1250/1250 [==============================] - 59s 47ms/step - loss: 1.7331 - accuracy: 0.3684 - val_loss: 1.6670 - val_accuracy: 0.3890\n",
      "Epoch 9/30\n",
      "1250/1250 [==============================] - 59s 47ms/step - loss: 1.7041 - accuracy: 0.3822 - val_loss: 1.6476 - val_accuracy: 0.4003\n",
      "Epoch 10/30\n",
      "1250/1250 [==============================] - 58s 46ms/step - loss: 1.6885 - accuracy: 0.3819 - val_loss: 1.6212 - val_accuracy: 0.4112\n",
      "Epoch 11/30\n",
      "1250/1250 [==============================] - 52s 42ms/step - loss: 1.6760 - accuracy: 0.3888 - val_loss: 1.6007 - val_accuracy: 0.4224\n",
      "Epoch 12/30\n",
      "1250/1250 [==============================] - 61s 49ms/step - loss: 1.6569 - accuracy: 0.4025 - val_loss: 1.5912 - val_accuracy: 0.4229\n",
      "Epoch 13/30\n",
      "1250/1250 [==============================] - 64s 51ms/step - loss: 1.6493 - accuracy: 0.4058 - val_loss: 1.5677 - val_accuracy: 0.4407\n",
      "Epoch 14/30\n",
      "1250/1250 [==============================] - 62s 50ms/step - loss: 1.6333 - accuracy: 0.4057 - val_loss: 1.5599 - val_accuracy: 0.4383\n",
      "Epoch 15/30\n",
      "1250/1250 [==============================] - 62s 49ms/step - loss: 1.6091 - accuracy: 0.4207 - val_loss: 1.5447 - val_accuracy: 0.4444\n",
      "Epoch 16/30\n",
      "1250/1250 [==============================] - 62s 49ms/step - loss: 1.5973 - accuracy: 0.4176 - val_loss: 1.5398 - val_accuracy: 0.4459\n",
      "Epoch 17/30\n",
      "1250/1250 [==============================] - 55s 44ms/step - loss: 1.5933 - accuracy: 0.4280 - val_loss: 1.5395 - val_accuracy: 0.4485\n",
      "Epoch 18/30\n",
      "1250/1250 [==============================] - 58s 46ms/step - loss: 1.5850 - accuracy: 0.4256 - val_loss: 1.5424 - val_accuracy: 0.4430\n",
      "Epoch 19/30\n",
      "1250/1250 [==============================] - 53s 42ms/step - loss: 1.5725 - accuracy: 0.4339 - val_loss: 1.5086 - val_accuracy: 0.4629\n",
      "Epoch 20/30\n",
      "1250/1250 [==============================] - 58s 46ms/step - loss: 1.5553 - accuracy: 0.4439 - val_loss: 1.4927 - val_accuracy: 0.4689\n",
      "Epoch 21/30\n",
      "1250/1250 [==============================] - 57s 46ms/step - loss: 1.5422 - accuracy: 0.4436 - val_loss: 1.4968 - val_accuracy: 0.4684\n",
      "Epoch 22/30\n",
      "1250/1250 [==============================] - 58s 46ms/step - loss: 1.5437 - accuracy: 0.4472 - val_loss: 1.4592 - val_accuracy: 0.4847\n",
      "Epoch 23/30\n",
      "1250/1250 [==============================] - 57s 46ms/step - loss: 1.5203 - accuracy: 0.4505 - val_loss: 1.4661 - val_accuracy: 0.4827\n",
      "Epoch 24/30\n",
      "1250/1250 [==============================] - 57s 46ms/step - loss: 1.5254 - accuracy: 0.4508 - val_loss: 1.4686 - val_accuracy: 0.4820\n",
      "Epoch 25/30\n",
      "1250/1250 [==============================] - 57s 46ms/step - loss: 1.5062 - accuracy: 0.4621 - val_loss: 1.4673 - val_accuracy: 0.4751\n",
      "Epoch 26/30\n",
      "1250/1250 [==============================] - 58s 46ms/step - loss: 1.5126 - accuracy: 0.4557 - val_loss: 1.4200 - val_accuracy: 0.4975\n",
      "Epoch 27/30\n",
      "1250/1250 [==============================] - 60s 48ms/step - loss: 1.4866 - accuracy: 0.4683 - val_loss: 1.4100 - val_accuracy: 0.5010\n",
      "Epoch 28/30\n",
      "1250/1250 [==============================] - 59s 47ms/step - loss: 1.4840 - accuracy: 0.4737 - val_loss: 1.4247 - val_accuracy: 0.4995\n",
      "Epoch 29/30\n",
      "1250/1250 [==============================] - 48s 38ms/step - loss: 1.4890 - accuracy: 0.4650 - val_loss: 1.4234 - val_accuracy: 0.5041\n",
      "Epoch 30/30\n",
      "1250/1250 [==============================] - 48s 39ms/step - loss: 1.4588 - accuracy: 0.4763 - val_loss: 1.4218 - val_accuracy: 0.4980\n"
     ]
    }
   ],
   "source": [
    "history = model.fit_generator(train_generator,\n",
    "                             steps_per_epoch=len(x_train_2) / 32,\n",
    "                             epochs=30,\n",
    "                             validation_data=validation_generator,\n",
    "                             validation_steps=len(x_val) / 32)"
   ]
  },
  {
   "cell_type": "code",
   "execution_count": 10,
   "id": "amazing-jurisdiction",
   "metadata": {},
   "outputs": [
    {
     "data": {
      "image/png": "[encoded data removed]",
      "text/plain": [
       "<Figure size 432x288 with 1 Axes>"
      ]
     },
     "metadata": {
      "needs_background": "light"
     },
     "output_type": "display_data"
    },
    {
     "data": {
      "text/plain": [
       "<Figure size 432x288 with 0 Axes>"
      ]
     },
     "metadata": {},
     "output_type": "display_data"
    }
   ],
   "source": [
    "train_loss = history.history['loss']\n",
    "val_loss = history.history['val_loss']\n",
    "\n",
    "epochs = range(1, len(history.history['loss']) + 1)\n",
    "\n",
    "plt.plot(epochs, train_loss, 'bo', label='Training loss')\n",
    "plt.plot(epochs, val_loss, 'b', label='Validation loss')\n",
    "plt.title('Training and Validation Losses')\n",
    "plt.xlabel('Epochs')\n",
    "plt.ylabel('Loss')\n",
    "plt.legend()\n",
    "\n",
    "plt.show()\n",
    "plt.savefig('results/6_2b_lossplot.png')"
   ]
  },
  {
   "cell_type": "code",
   "execution_count": 11,
   "id": "casual-wallet",
   "metadata": {},
   "outputs": [
    {
     "data": {
      "image/png": "[encoded data removed]",
      "text/plain": [
       "<Figure size 432x288 with 1 Axes>"
      ]
     },
     "metadata": {
      "needs_background": "light"
     },
     "output_type": "display_data"
    },
    {
     "data": {
      "text/plain": [
       "<Figure size 432x288 with 0 Axes>"
      ]
     },
     "metadata": {},
     "output_type": "display_data"
    }
   ],
   "source": [
    "train_loss = history.history['accuracy']\n",
    "val_loss = history.history['val_accuracy']\n",
    "\n",
    "epochs = range(1, len(history.history['accuracy']) + 1)\n",
    "\n",
    "plt.plot(epochs, train_loss, 'bo', label='Training accuracy')\n",
    "plt.plot(epochs, val_loss, 'b', label='Validation accuracy')\n",
    "plt.title('Training and Validation Accuracy')\n",
    "plt.xlabel('Epochs')\n",
    "plt.ylabel('Accuracy')\n",
    "plt.legend()\n",
    "\n",
    "plt.show()\n",
    "plt.savefig('results/6_2b_accplot.png')"
   ]
  },
  {
   "cell_type": "code",
   "execution_count": 12,
   "id": "continent-ideal",
   "metadata": {},
   "outputs": [
    {
     "name": "stdout",
     "output_type": "stream",
     "text": [
      "Epoch 1/16\n",
      "1562/1562 [==============================] - 50s 32ms/step - loss: 1.4728 - accuracy: 0.4737\n",
      "Epoch 2/16\n",
      "1562/1562 [==============================] - 50s 32ms/step - loss: 1.4716 - accuracy: 0.4775\n",
      "Epoch 3/16\n",
      "1562/1562 [==============================] - 49s 31ms/step - loss: 1.4582 - accuracy: 0.4770\n",
      "Epoch 4/16\n",
      "1562/1562 [==============================] - 48s 31ms/step - loss: 1.4484 - accuracy: 0.4829\n",
      "Epoch 5/16\n",
      "1562/1562 [==============================] - 48s 31ms/step - loss: 1.4299 - accuracy: 0.4892\n",
      "Epoch 6/16\n",
      "1562/1562 [==============================] - 48s 31ms/step - loss: 1.4192 - accuracy: 0.4954\n",
      "Epoch 7/16\n",
      "1562/1562 [==============================] - 48s 31ms/step - loss: 1.4200 - accuracy: 0.4908\n",
      "Epoch 8/16\n",
      "1562/1562 [==============================] - 48s 31ms/step - loss: 1.4249 - accuracy: 0.4961\n",
      "Epoch 9/16\n",
      "1562/1562 [==============================] - 48s 31ms/step - loss: 1.4180 - accuracy: 0.4947\n",
      "Epoch 10/16\n",
      "1562/1562 [==============================] - 48s 31ms/step - loss: 1.4130 - accuracy: 0.4996\n",
      "Epoch 11/16\n",
      "1562/1562 [==============================] - 48s 31ms/step - loss: 1.3998 - accuracy: 0.5034\n",
      "Epoch 12/16\n",
      "1562/1562 [==============================] - 48s 31ms/step - loss: 1.4081 - accuracy: 0.4989\n",
      "Epoch 13/16\n",
      "1562/1562 [==============================] - 55s 35ms/step - loss: 1.3965 - accuracy: 0.5019\n",
      "Epoch 14/16\n",
      "1562/1562 [==============================] - 60s 39ms/step - loss: 1.3851 - accuracy: 0.5078\n",
      "Epoch 15/16\n",
      "1562/1562 [==============================] - 60s 39ms/step - loss: 1.3788 - accuracy: 0.5068\n",
      "Epoch 16/16\n",
      "1562/1562 [==============================] - 61s 39ms/step - loss: 1.3887 - accuracy: 0.5081\n",
      "313/313 [==============================] - 2s 6ms/step - loss: 216.6761 - accuracy: 0.4007\n"
     ]
    }
   ],
   "source": [
    "#retrain the model and evaluate on test\n",
    "train_generator = train_datagen.flow(x_train, y_train,  batch_size=32)\n",
    "\n",
    "model.compile(optimizer=optimizers.RMSprop(lr=1e-4),\n",
    "             loss='categorical_crossentropy',\n",
    "             metrics=['accuracy'])\n",
    "\n",
    "#16 epochs chosen based on graphs above\n",
    "history = model.fit_generator(train_generator,\n",
    "                             steps_per_epoch=len(x_train) / 32,\n",
    "                             epochs=16)\n",
    "results = model.evaluate(x_test, y_test)"
   ]
  },
  {
   "cell_type": "code",
   "execution_count": 13,
   "id": "fabulous-champion",
   "metadata": {},
   "outputs": [],
   "source": [
    "model.save('results/6_2b_model.h5')"
   ]
  },
  {
   "cell_type": "code",
   "execution_count": 14,
   "id": "resistant-bacon",
   "metadata": {},
   "outputs": [],
   "source": [
    "prediction_results = model.predict(x_test)"
   ]
  },
  {
   "cell_type": "code",
   "execution_count": 15,
   "id": "purple-parameter",
   "metadata": {},
   "outputs": [],
   "source": [
    "#write metrics to file\n",
    "with open('results/6_2b_metrics.txt', 'w') as f:\n",
    "    f.write('Training Loss: {}'.format(str(history.history['loss'])))\n",
    "    f.write('\\nTraining Accuracy: {}'.format(str(history.history['accuracy'])))\n",
    "    f.write('\\nTest Loss: {}'.format(results[0]))\n",
    "    f.write('\\nTest Accuracy: {}'.format(results[1]))"
   ]
  },
  {
   "cell_type": "code",
   "execution_count": 16,
   "id": "intensive-router",
   "metadata": {},
   "outputs": [],
   "source": [
    "predictions = pd.DataFrame(prediction_results, columns=['0','1','2','3','4','5','6','7','8','9'])\n",
    "predictions.to_csv('results/6_2b_predictions.csv', index=False)"
   ]
  },
  {
   "cell_type": "code",
   "execution_count": null,
   "id": "vulnerable-architect",
   "metadata": {},
   "outputs": [],
   "source": []
  }
 ],
 "metadata": {
  "kernelspec": {
   "display_name": "Python 3",
   "language": "python",
   "name": "python3"
  },
  "language_info": {
   "codemirror_mode": {
    "name": "ipython",
    "version": 3
   },
   "file_extension": ".py",
   "mimetype": "text/x-python",
   "name": "python",
   "nbconvert_exporter": "python",
   "pygments_lexer": "ipython3",
   "version": "3.8.8"
  }
 },
 "nbformat": 4,
 "nbformat_minor": 5
}
