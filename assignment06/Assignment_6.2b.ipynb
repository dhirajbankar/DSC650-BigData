{
 "cells": [
  {
   "cell_type": "code",
   "execution_count": 1,
   "id": "parliamentary-corrections",
   "metadata": {},
   "outputs": [
    {
     "name": "stdout",
     "output_type": "stream",
     "text": [
      "A local file was found, but it seems to be incomplete or outdated because the auto file hash does not match the original value of 6d958be074577803d12ecdefd02955f39262c83c16fe9348329d7fe0b5c001ce so we will re-download the data.\n",
      "Downloading data from https://www.cs.toronto.edu/~kriz/cifar-10-python.tar.gz\n",
      "170500096/170498071 [==============================] - 22s 0us/step\n"
     ]
    }
   ],
   "source": [
    "from keras.datasets import cifar10\n",
    "from keras.utils import to_categorical\n",
    "from keras.preprocessing.image import ImageDataGenerator\n",
    "import pandas as pd\n",
    "import matplotlib.pyplot as plt\n",
    "\n",
    "(x_train, y_train), (x_test, y_test) = cifar10.load_data()"
   ]
  },
  {
   "cell_type": "code",
   "execution_count": 2,
   "id": "cordless-helmet",
   "metadata": {},
   "outputs": [
    {
     "data": {
      "text/plain": [
       "((50000, 32, 32, 3), (50000, 1))"
      ]
     },
     "execution_count": 2,
     "metadata": {},
     "output_type": "execute_result"
    }
   ],
   "source": [
    "x_train.shape, y_train.shape"
   ]
  },
  {
   "cell_type": "code",
   "execution_count": 3,
   "id": "optical-western",
   "metadata": {},
   "outputs": [
    {
     "data": {
      "text/plain": [
       "((10000, 32, 32, 3), (10000, 1))"
      ]
     },
     "execution_count": 3,
     "metadata": {},
     "output_type": "execute_result"
    }
   ],
   "source": [
    "x_test.shape, y_test.shape"
   ]
  },
  {
   "cell_type": "code",
   "execution_count": 4,
   "id": "smooth-contents",
   "metadata": {},
   "outputs": [],
   "source": [
    "# Preprocess the data (these are NumPy arrays)\n",
    "x_train = x_train.astype(\"float32\")\n",
    "x_test = x_test.astype(\"float32\")\n",
    "\n",
    "y_train = to_categorical(y_train)\n",
    "y_test = to_categorical(y_test)"
   ]
  },
  {
   "cell_type": "code",
   "execution_count": 5,
   "id": "second-demographic",
   "metadata": {},
   "outputs": [],
   "source": [
    "# Reserve 10,000 samples for validation\n",
    "x_val = x_train[-10000:]\n",
    "y_val = y_train[-10000:]\n",
    "x_train_2 = x_train[:-10000]\n",
    "y_train_2 = y_train[:-10000]"
   ]
  },
  {
   "cell_type": "code",
   "execution_count": 6,
   "id": "obvious-employment",
   "metadata": {},
   "outputs": [],
   "source": [
    "train_datagen = ImageDataGenerator(rescale=1./255,\n",
    "                                  rotation_range=40,\n",
    "                                  width_shift_range=0.2,\n",
    "                                  height_shift_range=0.2,\n",
    "                                  shear_range=0.2,\n",
    "                                  zoom_range=0.2,\n",
    "                                  horizontal_flip=True)\n",
    "\n",
    "test_datagen = ImageDataGenerator(rescale=1./255)\n",
    "\n",
    "train_generator = train_datagen.flow(x_train_2, y_train_2,  batch_size=32)\n",
    "\n",
    "validation_generator = train_datagen.flow(x_val, y_val, batch_size=32)"
   ]
  },
  {
   "cell_type": "code",
   "execution_count": 7,
   "id": "floppy-illness",
   "metadata": {},
   "outputs": [
    {
     "name": "stdout",
     "output_type": "stream",
     "text": [
      "Model: \"sequential\"\n",
      "_________________________________________________________________\n",
      "Layer (type)                 Output Shape              Param #   \n",
      "=================================================================\n",
      "conv2d (Conv2D)              (None, 30, 30, 32)        896       \n",
      "_________________________________________________________________\n",
      "max_pooling2d (MaxPooling2D) (None, 15, 15, 32)        0         \n",
      "_________________________________________________________________\n",
      "conv2d_1 (Conv2D)            (None, 13, 13, 64)        18496     \n",
      "_________________________________________________________________\n",
      "max_pooling2d_1 (MaxPooling2 (None, 6, 6, 64)          0         \n",
      "_________________________________________________________________\n",
      "conv2d_2 (Conv2D)            (None, 4, 4, 64)          36928     \n",
      "_________________________________________________________________\n",
      "max_pooling2d_2 (MaxPooling2 (None, 2, 2, 64)          0         \n",
      "_________________________________________________________________\n",
      "flatten (Flatten)            (None, 256)               0         \n",
      "_________________________________________________________________\n",
      "dropout (Dropout)            (None, 256)               0         \n",
      "_________________________________________________________________\n",
      "dense (Dense)                (None, 64)                16448     \n",
      "_________________________________________________________________\n",
      "dense_1 (Dense)              (None, 10)                650       \n",
      "=================================================================\n",
      "Total params: 73,418\n",
      "Trainable params: 73,418\n",
      "Non-trainable params: 0\n",
      "_________________________________________________________________\n"
     ]
    }
   ],
   "source": [
    "#instantiate the model\n",
    "from keras import models\n",
    "from keras import layers\n",
    "\n",
    "model = models.Sequential()\n",
    "model.add(layers.Conv2D(32, (3,3), activation='relu', input_shape=(32,32,3)))\n",
    "model.add(layers.MaxPooling2D(2,2))\n",
    "model.add(layers.Conv2D(64, (3,3), activation='relu'))\n",
    "model.add(layers.MaxPooling2D(2,2))\n",
    "model.add(layers.Conv2D(64, (3,3), activation='relu'))\n",
    "model.add(layers.MaxPooling2D(2,2))\n",
    "model.add(layers.Flatten())\n",
    "model.add(layers.Dropout(0.5))\n",
    "model.add(layers.Dense(64, activation='relu'))\n",
    "model.add(layers.Dense(10, activation='softmax'))\n",
    "\n",
    "model.summary()"
   ]
  },
  {
   "cell_type": "code",
   "execution_count": 8,
   "id": "meaning-death",
   "metadata": {},
   "outputs": [],
   "source": [
    "from keras import optimizers\n",
    "\n",
    "model.compile(optimizer=optimizers.RMSprop(lr=1e-4),\n",
    "             loss='categorical_crossentropy',\n",
    "             metrics=['accuracy'])"
   ]
  },
  {
   "cell_type": "code",
   "execution_count": 9,
   "id": "reported-nothing",
   "metadata": {},
   "outputs": [
    {
     "name": "stderr",
     "output_type": "stream",
     "text": [
      "/opt/conda/lib/python3.8/site-packages/tensorflow/python/keras/engine/training.py:1844: UserWarning: `Model.fit_generator` is deprecated and will be removed in a future version. Please use `Model.fit`, which supports generators.\n",
      "  warnings.warn('`Model.fit_generator` is deprecated and '\n"
     ]
    },
    {
     "name": "stdout",
     "output_type": "stream",
     "text": [
      "Epoch 1/30\n",
      "1250/1250 [==============================] - 60s 47ms/step - loss: 2.2345 - accuracy: 0.1506 - val_loss: 1.9912 - val_accuracy: 0.2555\n",
      "Epoch 2/30\n",
      "1250/1250 [==============================] - 57s 46ms/step - loss: 1.9917 - accuracy: 0.2482 - val_loss: 1.9086 - val_accuracy: 0.2968\n",
      "Epoch 3/30\n",
      "1250/1250 [==============================] - 58s 46ms/step - loss: 1.9217 - accuracy: 0.2808 - val_loss: 1.8425 - val_accuracy: 0.3159\n",
      "Epoch 4/30\n",
      "1250/1250 [==============================] - 58s 46ms/step - loss: 1.8709 - accuracy: 0.3068 - val_loss: 1.8045 - val_accuracy: 0.3331\n",
      "Epoch 5/30\n",
      "1250/1250 [==============================] - 57s 46ms/step - loss: 1.8241 - accuracy: 0.3224 - val_loss: 1.7681 - val_accuracy: 0.3492\n",
      "Epoch 6/30\n",
      "1250/1250 [==============================] - 58s 46ms/step - loss: 1.7955 - accuracy: 0.3340 - val_loss: 1.7300 - val_accuracy: 0.3601\n",
      "Epoch 7/30\n",
      "1250/1250 [==============================] - 58s 46ms/step - loss: 1.7610 - accuracy: 0.3522 - val_loss: 1.7076 - val_accuracy: 0.3737\n",
      "Epoch 8/30\n",
      "1250/1250 [==============================] - 58s 46ms/step - loss: 1.7422 - accuracy: 0.3605 - val_loss: 1.7180 - val_accuracy: 0.3708\n",
      "Epoch 9/30\n",
      "1250/1250 [==============================] - 57s 46ms/step - loss: 1.7113 - accuracy: 0.3688 - val_loss: 1.6650 - val_accuracy: 0.3983\n",
      "Epoch 10/30\n",
      "1250/1250 [==============================] - 58s 46ms/step - loss: 1.7001 - accuracy: 0.3827 - val_loss: 1.6621 - val_accuracy: 0.3984\n",
      "Epoch 11/30\n",
      "1250/1250 [==============================] - 57s 46ms/step - loss: 1.6806 - accuracy: 0.3853 - val_loss: 1.6346 - val_accuracy: 0.4102\n",
      "Epoch 12/30\n",
      "1250/1250 [==============================] - 58s 46ms/step - loss: 1.6613 - accuracy: 0.3946 - val_loss: 1.6068 - val_accuracy: 0.4207\n",
      "Epoch 13/30\n",
      "1250/1250 [==============================] - 57s 46ms/step - loss: 1.6567 - accuracy: 0.4003 - val_loss: 1.5812 - val_accuracy: 0.4277\n",
      "Epoch 14/30\n",
      "1250/1250 [==============================] - 58s 46ms/step - loss: 1.6438 - accuracy: 0.4026 - val_loss: 1.5715 - val_accuracy: 0.4371\n",
      "Epoch 15/30\n",
      "1250/1250 [==============================] - 58s 46ms/step - loss: 1.6283 - accuracy: 0.4103 - val_loss: 1.5709 - val_accuracy: 0.4381\n",
      "Epoch 16/30\n",
      "1250/1250 [==============================] - 58s 46ms/step - loss: 1.6083 - accuracy: 0.4170 - val_loss: 1.5413 - val_accuracy: 0.4493\n",
      "Epoch 17/30\n",
      "1250/1250 [==============================] - 58s 46ms/step - loss: 1.6014 - accuracy: 0.4205 - val_loss: 1.5466 - val_accuracy: 0.4400\n",
      "Epoch 18/30\n",
      "1250/1250 [==============================] - 58s 46ms/step - loss: 1.5938 - accuracy: 0.4247 - val_loss: 1.5225 - val_accuracy: 0.4587\n",
      "Epoch 19/30\n",
      "1250/1250 [==============================] - 58s 46ms/step - loss: 1.5859 - accuracy: 0.4317 - val_loss: 1.5200 - val_accuracy: 0.4547\n",
      "Epoch 20/30\n",
      "1250/1250 [==============================] - 58s 46ms/step - loss: 1.5902 - accuracy: 0.4300 - val_loss: 1.5099 - val_accuracy: 0.4598\n",
      "Epoch 21/30\n",
      "1250/1250 [==============================] - 58s 46ms/step - loss: 1.5650 - accuracy: 0.4408 - val_loss: 1.4952 - val_accuracy: 0.4705\n",
      "Epoch 22/30\n",
      "1250/1250 [==============================] - 58s 46ms/step - loss: 1.5661 - accuracy: 0.4425 - val_loss: 1.4884 - val_accuracy: 0.4624\n",
      "Epoch 23/30\n",
      "1250/1250 [==============================] - 58s 46ms/step - loss: 1.5450 - accuracy: 0.4460 - val_loss: 1.5389 - val_accuracy: 0.4531\n",
      "Epoch 24/30\n",
      "1250/1250 [==============================] - 57s 45ms/step - loss: 1.5398 - accuracy: 0.4496 - val_loss: 1.4618 - val_accuracy: 0.4777\n",
      "Epoch 25/30\n",
      "1250/1250 [==============================] - 57s 46ms/step - loss: 1.5385 - accuracy: 0.4493 - val_loss: 1.4465 - val_accuracy: 0.4853\n",
      "Epoch 26/30\n",
      "1250/1250 [==============================] - 57s 46ms/step - loss: 1.5231 - accuracy: 0.4564 - val_loss: 1.4627 - val_accuracy: 0.4754\n",
      "Epoch 27/30\n",
      "1250/1250 [==============================] - 53s 43ms/step - loss: 1.5106 - accuracy: 0.4621 - val_loss: 1.4703 - val_accuracy: 0.4792\n",
      "Epoch 28/30\n",
      "1250/1250 [==============================] - 43s 34ms/step - loss: 1.5147 - accuracy: 0.4562 - val_loss: 1.4331 - val_accuracy: 0.4902\n",
      "Epoch 29/30\n",
      "1250/1250 [==============================] - 43s 34ms/step - loss: 1.5085 - accuracy: 0.4626 - val_loss: 1.4535 - val_accuracy: 0.4820\n",
      "Epoch 30/30\n",
      "1250/1250 [==============================] - 43s 34ms/step - loss: 1.4960 - accuracy: 0.4672 - val_loss: 1.4255 - val_accuracy: 0.4918\n"
     ]
    }
   ],
   "source": [
    "history = model.fit_generator(train_generator,\n",
    "                             steps_per_epoch=len(x_train_2) / 32,\n",
    "                             epochs=30,\n",
    "                             validation_data=validation_generator,\n",
    "                             validation_steps=len(x_val) / 32)"
   ]
  },
  {
   "cell_type": "code",
   "execution_count": 10,
   "id": "desperate-latitude",
   "metadata": {},
   "outputs": [
    {
     "data": {
      "image/png": "[encoded data removed]",
      "text/plain": [
       "<Figure size 432x288 with 1 Axes>"
      ]
     },
     "metadata": {
      "needs_background": "light"
     },
     "output_type": "display_data"
    },
    {
     "data": {
      "text/plain": [
       "<Figure size 432x288 with 0 Axes>"
      ]
     },
     "metadata": {},
     "output_type": "display_data"
    }
   ],
   "source": [
    "train_loss = history.history['loss']\n",
    "val_loss = history.history['val_loss']\n",
    "\n",
    "epochs = range(1, len(history.history['loss']) + 1)\n",
    "\n",
    "plt.plot(epochs, train_loss, 'bo', label='Training loss')\n",
    "plt.plot(epochs, val_loss, 'b', label='Validation loss')\n",
    "plt.title('Training and Validation Losses')\n",
    "plt.xlabel('Epochs')\n",
    "plt.ylabel('Loss')\n",
    "plt.legend()\n",
    "\n",
    "plt.show()\n",
    "plt.savefig('results/6_2b_lossplot.png')"
   ]
  },
  {
   "cell_type": "code",
   "execution_count": 11,
   "id": "changing-inquiry",
   "metadata": {},
   "outputs": [
    {
     "data": {
      "image/png": "[encoded data removed]",
      "text/plain": [
       "<Figure size 432x288 with 1 Axes>"
      ]
     },
     "metadata": {
      "needs_background": "light"
     },
     "output_type": "display_data"
    },
    {
     "data": {
      "text/plain": [
       "<Figure size 432x288 with 0 Axes>"
      ]
     },
     "metadata": {},
     "output_type": "display_data"
    }
   ],
   "source": [
    "train_loss = history.history['accuracy']\n",
    "val_loss = history.history['val_accuracy']\n",
    "\n",
    "epochs = range(1, len(history.history['accuracy']) + 1)\n",
    "\n",
    "plt.plot(epochs, train_loss, 'bo', label='Training accuracy')\n",
    "plt.plot(epochs, val_loss, 'b', label='Validation accuracy')\n",
    "plt.title('Training and Validation Accuracy')\n",
    "plt.xlabel('Epochs')\n",
    "plt.ylabel('Accuracy')\n",
    "plt.legend()\n",
    "\n",
    "plt.show()\n",
    "plt.savefig('results/6_2b_accplot.png')"
   ]
  },
  {
   "cell_type": "code",
   "execution_count": 12,
   "id": "honest-communist",
   "metadata": {},
   "outputs": [
    {
     "name": "stdout",
     "output_type": "stream",
     "text": [
      "Epoch 1/16\n",
      "1562/1562 [==============================] - 45s 28ms/step - loss: 1.4980 - accuracy: 0.4654\n",
      "Epoch 2/16\n",
      "1562/1562 [==============================] - 44s 28ms/step - loss: 1.4841 - accuracy: 0.4684\n",
      "Epoch 3/16\n",
      "1562/1562 [==============================] - 44s 28ms/step - loss: 1.4770 - accuracy: 0.4744\n",
      "Epoch 4/16\n",
      "1562/1562 [==============================] - 44s 28ms/step - loss: 1.4596 - accuracy: 0.4796\n",
      "Epoch 5/16\n",
      "1562/1562 [==============================] - 44s 28ms/step - loss: 1.4613 - accuracy: 0.4803\n",
      "Epoch 6/16\n",
      "1562/1562 [==============================] - 45s 28ms/step - loss: 1.4551 - accuracy: 0.4803\n",
      "Epoch 7/16\n",
      "1562/1562 [==============================] - 44s 28ms/step - loss: 1.4536 - accuracy: 0.4842\n",
      "Epoch 8/16\n",
      "1562/1562 [==============================] - 44s 28ms/step - loss: 1.4387 - accuracy: 0.4878\n",
      "Epoch 9/16\n",
      "1562/1562 [==============================] - 44s 28ms/step - loss: 1.4443 - accuracy: 0.4859\n",
      "Epoch 10/16\n",
      "1562/1562 [==============================] - 44s 28ms/step - loss: 1.4298 - accuracy: 0.4911\n",
      "Epoch 11/16\n",
      "1562/1562 [==============================] - 45s 29ms/step - loss: 1.4355 - accuracy: 0.4876\n",
      "Epoch 12/16\n",
      "1562/1562 [==============================] - 44s 28ms/step - loss: 1.4225 - accuracy: 0.4950\n",
      "Epoch 13/16\n",
      "1562/1562 [==============================] - 44s 28ms/step - loss: 1.4078 - accuracy: 0.4986\n",
      "Epoch 14/16\n",
      "1562/1562 [==============================] - 45s 29ms/step - loss: 1.4052 - accuracy: 0.5009\n",
      "Epoch 15/16\n",
      "1562/1562 [==============================] - 44s 28ms/step - loss: 1.4082 - accuracy: 0.4969\n",
      "Epoch 16/16\n",
      "1562/1562 [==============================] - 45s 28ms/step - loss: 1.4050 - accuracy: 0.5023\n",
      "313/313 [==============================] - 1s 4ms/step - loss: 257.6946 - accuracy: 0.3655\n"
     ]
    }
   ],
   "source": [
    "#retrain the model and evaluate on test\n",
    "train_generator = train_datagen.flow(x_train, y_train,  batch_size=32)\n",
    "\n",
    "model.compile(optimizer=optimizers.RMSprop(lr=1e-4),\n",
    "             loss='categorical_crossentropy',\n",
    "             metrics=['accuracy'])\n",
    "\n",
    "#16 epochs chosen based on graphs above\n",
    "history = model.fit_generator(train_generator,\n",
    "                             steps_per_epoch=len(x_train) / 32,\n",
    "                             epochs=16)\n",
    "results = model.evaluate(x_test, y_test)"
   ]
  },
  {
   "cell_type": "code",
   "execution_count": 13,
   "id": "green-grounds",
   "metadata": {},
   "outputs": [],
   "source": [
    "model.save('results/6_2b_model.h5')"
   ]
  },
  {
   "cell_type": "code",
   "execution_count": 14,
   "id": "broken-header",
   "metadata": {},
   "outputs": [],
   "source": [
    "prediction_results = model.predict(x_test)"
   ]
  },
  {
   "cell_type": "code",
   "execution_count": 15,
   "id": "hispanic-tragedy",
   "metadata": {},
   "outputs": [],
   "source": [
    "#write metrics to file\n",
    "with open('results/6_2b_metrics.txt', 'w') as f:\n",
    "    f.write('Training Loss: {}'.format(str(history.history['loss'])))\n",
    "    f.write('\\nTraining Accuracy: {}'.format(str(history.history['accuracy'])))\n",
    "    f.write('\\nTest Loss: {}'.format(results[0]))\n",
    "    f.write('\\nTest Accuracy: {}'.format(results[1]))"
   ]
  },
  {
   "cell_type": "code",
   "execution_count": 16,
   "id": "human-appointment",
   "metadata": {},
   "outputs": [],
   "source": [
    "predictions = pd.DataFrame(prediction_results, columns=['0','1','2','3','4','5','6','7','8','9'])\n",
    "predictions.to_csv('results/6_2b_predictions.csv', index=False)"
   ]
  },
  {
   "cell_type": "code",
   "execution_count": null,
   "id": "yellow-replacement",
   "metadata": {},
   "outputs": [],
   "source": []
  },
  {
   "cell_type": "code",
   "execution_count": null,
   "id": "removed-sacrifice",
   "metadata": {},
   "outputs": [],
   "source": []
  },
  {
   "cell_type": "code",
   "execution_count": null,
   "id": "polish-maine",
   "metadata": {},
   "outputs": [],
   "source": []
  }
 ],
 "metadata": {
  "kernelspec": {
   "display_name": "Python 3",
   "language": "python",
   "name": "python3"
  },
  "language_info": {
   "codemirror_mode": {
    "name": "ipython",
    "version": 3
   },
   "file_extension": ".py",
   "mimetype": "text/x-python",
   "name": "python",
   "nbconvert_exporter": "python",
   "pygments_lexer": "ipython3",
   "version": "3.8.8"
  }
 },
 "nbformat": 4,
 "nbformat_minor": 5
}
