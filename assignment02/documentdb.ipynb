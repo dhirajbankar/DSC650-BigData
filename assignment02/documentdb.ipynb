{
 "cells": [
  {
   "cell_type": "code",
   "execution_count": 6,
   "metadata": {},
   "outputs": [],
   "source": [
    "from pathlib import Path\n",
    "import json\n",
    "import os\n",
    "\n",
    "from tinydb import TinyDB\n",
    "\n",
    "current_dir = Path(os.getcwd()).absolute()\n",
    "results_dir = current_dir.joinpath('results')\n",
    "kv_data_dir = results_dir.joinpath('kvdb')\n",
    "kv_data_dir.mkdir(parents=True, exist_ok=True)"
   ]
  },
  {
   "cell_type": "code",
   "execution_count": 7,
   "metadata": {},
   "outputs": [],
   "source": [
    "\n",
    "def _load_json(json_path):\n",
    "    with open(json_path) as f:\n",
    "        return json.load(f)"
   ]
  },
  {
   "cell_type": "code",
   "execution_count": 10,
   "metadata": {},
   "outputs": [],
   "source": [
    "class DocumentDB(object):\n",
    "    def __init__(self, db_path):\n",
    "        people_json = kv_data_dir.joinpath('people.json')\n",
    "        visited_json = kv_data_dir.joinpath('visited.json')\n",
    "        sites_json = kv_data_dir.joinpath('sites.json')\n",
    "        measurements_json = kv_data_dir.joinpath('measurements.json')\n",
    "        self._db_path = Path(db_path)\n",
    "        self._db = None\n",
    "\n",
    "        self.people_dict = _load_json(people_json)\n",
    "        self.visited_dict = _load_json(visited_json)\n",
    "        self.sites_dict = _load_json(sites_json)\n",
    "        self.measurements_dict = _load_json(measurements_json)\n",
    "        self._load_db()\n",
    "\n",
    "    def _load_db(self):\n",
    "        self._db = TinyDB(self._db_path)\n",
    "        # Create records by people dictionary\n",
    "        for people_k, people_v in self.people_dict.items():\n",
    "                        \n",
    "            #Create a list of visits\n",
    "            people_v['visits'] = []\n",
    "            for visited_k, visited_v in self.visited_dict.items():\n",
    "                for sites_k, sites_v in self.sites_dict.items():\n",
    "                    # Matching up site_id by sites and visits. Then storing in visited_v as the site\n",
    "                    if sites_v['site_id'] == visited_v['site_id']:\n",
    "                        visited_v['site'] = sites_v\n",
    "                        \n",
    "                        # Create measurements list\n",
    "                        visited_v['measurements'] = []\n",
    "                        for measurements_k, measurements_v in self.measurements_dict.items():\n",
    "                           \n",
    "                            # Matching visit_id and person_id with the measurements equivalents \n",
    "                            # and then add them to measurements_v\n",
    "                            if measurements_v['visit_id'] == visited_v['visit_id'] \n",
    "                                and measurements_v['person_id'] == people_v['person_id']:\n",
    "                                visited_v['measurements'].append(measurements_v)\n",
    "                        # If there are measurements, add it to visit using people_v visits list        \n",
    "                        if len(visited_v['measurements']) != 0:\n",
    "                            people_v['visits'].append(visited_v)\n",
    "                            \n",
    "            # Once person record is complete save it to db \n",
    "            self._db.insert(people_v)"
   ]
  },
  {
   "cell_type": "code",
   "execution_count": 11,
   "metadata": {},
   "outputs": [],
   "source": [
    "db_path = results_dir.joinpath('patient-info.json')\n",
    "if db_path.exists():\n",
    "    os.remove(db_path)\n",
    "\n",
    "db = DocumentDB(db_path)"
   ]
  },
  {
   "cell_type": "code",
   "execution_count": null,
   "metadata": {},
   "outputs": [],
   "source": []
  },
  {
   "cell_type": "code",
   "execution_count": null,
   "metadata": {},
   "outputs": [],
   "source": []
  }
 ],
 "metadata": {
  "kernelspec": {
   "display_name": "Python 3",
   "language": "python",
   "name": "python3"
  },
  "language_info": {
   "codemirror_mode": {
    "name": "ipython",
    "version": 3
   },
   "file_extension": ".py",
   "mimetype": "text/x-python",
   "name": "python",
   "nbconvert_exporter": "python",
   "pygments_lexer": "ipython3",
   "version": "3.8.8"
  }
 },
 "nbformat": 4,
 "nbformat_minor": 4
}
