{
 "cells": [
  {
   "cell_type": "code",
   "execution_count": null,
   "id": "later-spirituality",
   "metadata": {},
   "outputs": [],
   "source": [
    " import keras\n",
    "keras.__version__"
   ]
  },
  {
   "cell_type": "markdown",
   "id": "transsexual-while",
   "metadata": {},
   "source": [
    "##### Classifying newswires: a multi-class classification example\n",
    "\n",
    "The Reuters dataset We will be working with the Reuters dataset, a set of short newswires\n",
    "and their topics, published by Reuters in 1986. It’s a very simple, widely used toy dataset for text\n",
    "classification. There are 46 different topics; some topics are more represented than others, but each\n",
    "topic has at least 10 examples in the training set.\n",
    "Like IMDB and MNIST, the Reuters dataset comes packaged as part of Keras. Let’s take a look\n",
    "right away:"
   ]
  },
  {
   "cell_type": "code",
   "execution_count": 1,
   "id": "returning-technique",
   "metadata": {},
   "outputs": [
    {
     "name": "stdout",
     "output_type": "stream",
     "text": [
      "Downloading data from https://storage.googleapis.com/tensorflow/tf-keras-datasets/reuters.npz\n",
      "2113536/2110848 [==============================] - 0s 0us/step\n"
     ]
    },
    {
     "name": "stderr",
     "output_type": "stream",
     "text": [
      "/opt/conda/lib/python3.8/site-packages/tensorflow/python/keras/datasets/reuters.py:148: VisibleDeprecationWarning: Creating an ndarray from ragged nested sequences (which is a list-or-tuple of lists-or-tuples-or ndarrays with different lengths or shapes) is deprecated. If you meant to do this, you must specify 'dtype=object' when creating the ndarray\n",
      "  x_train, y_train = np.array(xs[:idx]), np.array(labels[:idx])\n",
      "/opt/conda/lib/python3.8/site-packages/tensorflow/python/keras/datasets/reuters.py:149: VisibleDeprecationWarning: Creating an ndarray from ragged nested sequences (which is a list-or-tuple of lists-or-tuples-or ndarrays with different lengths or shapes) is deprecated. If you meant to do this, you must specify 'dtype=object' when creating the ndarray\n",
      "  x_test, y_test = np.array(xs[idx:]), np.array(labels[idx:])\n"
     ]
    }
   ],
   "source": [
    " from keras.datasets import reuters\n",
    "(train_data, train_labels), (test_data, test_labels) = reuters.load_data(num_words=10000)"
   ]
  },
  {
   "cell_type": "markdown",
   "id": "expired-remedy",
   "metadata": {},
   "source": [
    "Like with the IMDB dataset, the argument num_words=10000 restricts the data to the 10,000 most\n",
    "frequently occurring words found in the data.\n",
    "We have 8,982 training examples and 2,246 test examples:"
   ]
  },
  {
   "cell_type": "code",
   "execution_count": 2,
   "id": "popular-interference",
   "metadata": {},
   "outputs": [
    {
     "data": {
      "text/plain": [
       "8982"
      ]
     },
     "execution_count": 2,
     "metadata": {},
     "output_type": "execute_result"
    }
   ],
   "source": [
    "len(train_data)"
   ]
  },
  {
   "cell_type": "code",
   "execution_count": 3,
   "id": "quiet-hampton",
   "metadata": {},
   "outputs": [
    {
     "data": {
      "text/plain": [
       "2246"
      ]
     },
     "execution_count": 3,
     "metadata": {},
     "output_type": "execute_result"
    }
   ],
   "source": [
    "len(test_data)"
   ]
  },
  {
   "cell_type": "markdown",
   "id": "improved-friend",
   "metadata": {},
   "source": [
    "As with the IMDB reviews, each example is a list of integers (word indices):"
   ]
  },
  {
   "cell_type": "code",
   "execution_count": 4,
   "id": "compliant-farmer",
   "metadata": {},
   "outputs": [
    {
     "data": {
      "text/plain": [
       "[1,\n",
       " 245,\n",
       " 273,\n",
       " 207,\n",
       " 156,\n",
       " 53,\n",
       " 74,\n",
       " 160,\n",
       " 26,\n",
       " 14,\n",
       " 46,\n",
       " 296,\n",
       " 26,\n",
       " 39,\n",
       " 74,\n",
       " 2979,\n",
       " 3554,\n",
       " 14,\n",
       " 46,\n",
       " 4689,\n",
       " 4329,\n",
       " 86,\n",
       " 61,\n",
       " 3499,\n",
       " 4795,\n",
       " 14,\n",
       " 61,\n",
       " 451,\n",
       " 4329,\n",
       " 17,\n",
       " 12]"
      ]
     },
     "execution_count": 4,
     "metadata": {},
     "output_type": "execute_result"
    }
   ],
   "source": [
    "train_data[10]"
   ]
  },
  {
   "cell_type": "markdown",
   "id": "imperial-mercy",
   "metadata": {},
   "source": [
    "Here’s how you can decode it back to words, in case you are curious:"
   ]
  },
  {
   "cell_type": "code",
   "execution_count": 5,
   "id": "characteristic-minute",
   "metadata": {},
   "outputs": [
    {
     "name": "stdout",
     "output_type": "stream",
     "text": [
      "Downloading data from https://storage.googleapis.com/tensorflow/tf-keras-datasets/reuters_word_index.json\n",
      "557056/550378 [==============================] - 0s 0us/step\n"
     ]
    }
   ],
   "source": [
    "word_index = reuters.get_word_index()\n",
    "reverse_word_index = dict([(value, key) for (key, value) in word_index.items()])\n",
    "# Note that our indices were offset by 3\n",
    "# because 0, 1 and 2 are reserved indices for \"padding\", \"start of sequence\", and \"unknown\".\n",
    "decoded_newswire = ' '.join([reverse_word_index.get(i - 3, '?') for i in train_data[0]])"
   ]
  },
  {
   "cell_type": "code",
   "execution_count": 6,
   "id": "bronze-grass",
   "metadata": {},
   "outputs": [
    {
     "data": {
      "text/plain": [
       "'? ? ? said as a result of its december acquisition of space co it expects earnings per share in 1987 of 1 15 to 1 30 dlrs per share up from 70 cts in 1986 the company said pretax net should rise to nine to 10 mln dlrs from six mln dlrs in 1986 and rental operation revenues to 19 to 22 mln dlrs from 12 5 mln dlrs it said cash flow per share this year should be 2 50 to three dlrs reuter 3'"
      ]
     },
     "execution_count": 6,
     "metadata": {},
     "output_type": "execute_result"
    }
   ],
   "source": [
    "decoded_newswire"
   ]
  },
  {
   "cell_type": "markdown",
   "id": "spectacular-pastor",
   "metadata": {},
   "source": [
    "The label associated with an example is an integer between 0 and 45: a topic index."
   ]
  },
  {
   "cell_type": "code",
   "execution_count": 7,
   "id": "mature-tattoo",
   "metadata": {},
   "outputs": [
    {
     "data": {
      "text/plain": [
       "3"
      ]
     },
     "execution_count": 7,
     "metadata": {},
     "output_type": "execute_result"
    }
   ],
   "source": [
    "train_labels[10]"
   ]
  },
  {
   "cell_type": "markdown",
   "id": "middle-header",
   "metadata": {},
   "source": [
    "Preparing the data \n",
    "We can vectorize the data with the exact same code as in our previous\n",
    "example:"
   ]
  },
  {
   "cell_type": "code",
   "execution_count": 10,
   "id": "indie-modeling",
   "metadata": {},
   "outputs": [],
   "source": [
    "import numpy as np\n",
    "def vectorize_sequences(sequences, dimension=10000):\n",
    "    results = np.zeros((len(sequences), dimension))\n",
    "    for i, sequence in enumerate(sequences):\n",
    "        results[i, sequence] = 1.\n",
    "    return results\n",
    "# Our vectorized training data\n",
    "x_train = vectorize_sequences(train_data)\n",
    "# Our vectorized test data\n",
    "x_test = vectorize_sequences(test_data)"
   ]
  },
  {
   "cell_type": "markdown",
   "id": "chief-exercise",
   "metadata": {},
   "source": [
    "To vectorize the labels, there are two possibilities: we could just cast the label list as an integer\n",
    "tensor, or we could use a “one-hot” encoding. One-hot encoding is a widely used format for\n",
    "categorical data, also called “categorical encoding”. For a more detailed explanation of one-hot\n",
    "encoding, you can refer to Chapter 6, Section 1. In our case, one-hot encoding of our labels consists\n",
    "in embedding each label as an all-zero vector with a 1 in the place of the label index, e.g.:"
   ]
  },
  {
   "cell_type": "code",
   "execution_count": 11,
   "id": "antique-baseball",
   "metadata": {},
   "outputs": [],
   "source": [
    "def to_one_hot(labels, dimension=46):\n",
    "    results = np.zeros((len(labels), dimension))\n",
    "    for i, label in enumerate(labels):\n",
    "        results[i, label] = 1.\n",
    "    return results\n",
    "# Our vectorized training labels\n",
    "one_hot_train_labels = to_one_hot(train_labels)\n",
    "# Our vectorized test labels\n",
    "one_hot_test_labels = to_one_hot(test_labels)"
   ]
  },
  {
   "cell_type": "markdown",
   "id": "elect-island",
   "metadata": {},
   "source": [
    "Note that there is a built-in way to do this in Keras, which you have already seen in action in our\n",
    "MNIST example:"
   ]
  },
  {
   "cell_type": "code",
   "execution_count": 12,
   "id": "different-forestry",
   "metadata": {},
   "outputs": [],
   "source": [
    "from keras.utils.np_utils import to_categorical\n",
    "one_hot_train_labels = to_categorical(train_labels)\n",
    "one_hot_test_labels = to_categorical(test_labels)"
   ]
  },
  {
   "cell_type": "markdown",
   "id": "accompanied-missile",
   "metadata": {},
   "source": [
    "Building our network \n",
    "This topic classification problem looks very similar to our previous movie\n",
    "review classification problem: in both cases, we are trying to classify short snippets of text. There\n",
    "is however a new constraint here: the number of output classes has gone from 2 to 46, i.e. the\n",
    "dimensionality of the output space is much larger.\n",
    "In a stack of Dense layers like what we were using, each layer can only access information present in\n",
    "the output of the previous layer. If one layer drops some information relevant to the classification\n",
    "problem, this information can never be recovered by later layers: each layer can potentially become\n",
    "an “information bottleneck”. In our previous example, we were using 16-dimensional intermediate\n",
    "layers, but a 16-dimensional space may be too limited to learn to separate 46 different classes: such\n",
    "small layers may act as information bottlenecks, permanently dropping relevant information.\n",
    "For this reason we will use larger layers. Let’s go with 64 units:"
   ]
  },
  {
   "cell_type": "code",
   "execution_count": 13,
   "id": "developed-direction",
   "metadata": {},
   "outputs": [],
   "source": [
    "from keras import models\n",
    "from keras import layers\n",
    "model = models.Sequential()\n",
    "model.add(layers.Dense(64, activation='relu', input_shape=(10000,)))\n",
    "model.add(layers.Dense(64, activation='relu'))\n",
    "model.add(layers.Dense(46, activation='softmax'))"
   ]
  },
  {
   "cell_type": "markdown",
   "id": "atmospheric-gilbert",
   "metadata": {},
   "source": [
    "There are two other things you should note about this architecture:\n",
    "• We are ending the network with a Dense layer of size 46. This means that for each input\n",
    "sample, our network will output a 46-dimensional vector. Each entry in this vector (each\n",
    "dimension) will encode a different output class.\n",
    "• The last layer uses a softmax activation. You have already seen this pattern in the MNIST\n",
    "example. It means that the network will output a probability distribution over the 46 different\n",
    "output classes, i.e. for every input sample, the network will produce a 46-dimensional output\n",
    "vector where output[i] is the probability that the sample belongs to class i. The 46 scores\n",
    "will sum to 1.\n",
    "The best loss function to use in this case is categorical_crossentropy. It measures the distance\n",
    "between two probability distributions: in our case, between the probability distribution output by\n",
    "our network, and the true distribution of the labels. By minimizing the distance between these two\n",
    "distributions, we train our network to output something as close as possible to the true labels."
   ]
  },
  {
   "cell_type": "code",
   "execution_count": 14,
   "id": "present-dividend",
   "metadata": {},
   "outputs": [],
   "source": [
    "model.compile(optimizer='rmsprop',\n",
    "loss='categorical_crossentropy',\n",
    "metrics=['accuracy'])"
   ]
  },
  {
   "cell_type": "markdown",
   "id": "reliable-central",
   "metadata": {},
   "source": [
    "Validating our approach \n",
    "Let’s set apart 1,000 samples in our training data to use as a validation\n",
    "set:"
   ]
  },
  {
   "cell_type": "code",
   "execution_count": 15,
   "id": "outstanding-scoop",
   "metadata": {},
   "outputs": [],
   "source": [
    "x_val = x_train[:1000]\n",
    "partial_x_train = x_train[1000:]\n",
    "y_val = one_hot_train_labels[:1000]\n",
    "partial_y_train = one_hot_train_labels[1000:]"
   ]
  },
  {
   "cell_type": "markdown",
   "id": "geological-insurance",
   "metadata": {},
   "source": [
    "Now let’s train our network for 20 epochs:"
   ]
  },
  {
   "cell_type": "code",
   "execution_count": 16,
   "id": "european-karaoke",
   "metadata": {},
   "outputs": [
    {
     "name": "stdout",
     "output_type": "stream",
     "text": [
      "Epoch 1/20\n",
      "16/16 [==============================] - 1s 52ms/step - loss: 3.0305 - accuracy: 0.4064 - val_loss: 1.6530 - val_accuracy: 0.6490\n",
      "Epoch 2/20\n",
      "16/16 [==============================] - 0s 18ms/step - loss: 1.4527 - accuracy: 0.6967 - val_loss: 1.2629 - val_accuracy: 0.7240\n",
      "Epoch 3/20\n",
      "16/16 [==============================] - 0s 26ms/step - loss: 1.0512 - accuracy: 0.7714 - val_loss: 1.1259 - val_accuracy: 0.7390\n",
      "Epoch 4/20\n",
      "16/16 [==============================] - 0s 16ms/step - loss: 0.8317 - accuracy: 0.8203 - val_loss: 1.0119 - val_accuracy: 0.7960\n",
      "Epoch 5/20\n",
      "16/16 [==============================] - 0s 15ms/step - loss: 0.6550 - accuracy: 0.8657 - val_loss: 0.9657 - val_accuracy: 0.7890\n",
      "Epoch 6/20\n",
      "16/16 [==============================] - 0s 17ms/step - loss: 0.5116 - accuracy: 0.8913 - val_loss: 0.9244 - val_accuracy: 0.8060\n",
      "Epoch 7/20\n",
      "16/16 [==============================] - 0s 15ms/step - loss: 0.4090 - accuracy: 0.9177 - val_loss: 0.9118 - val_accuracy: 0.8100\n",
      "Epoch 8/20\n",
      "16/16 [==============================] - 0s 15ms/step - loss: 0.3358 - accuracy: 0.9338 - val_loss: 0.9203 - val_accuracy: 0.8120\n",
      "Epoch 9/20\n",
      "16/16 [==============================] - 0s 15ms/step - loss: 0.2795 - accuracy: 0.9387 - val_loss: 0.9644 - val_accuracy: 0.7930\n",
      "Epoch 10/20\n",
      "16/16 [==============================] - 0s 14ms/step - loss: 0.2338 - accuracy: 0.9482 - val_loss: 0.9142 - val_accuracy: 0.8080\n",
      "Epoch 11/20\n",
      "16/16 [==============================] - 0s 16ms/step - loss: 0.1910 - accuracy: 0.9563 - val_loss: 0.9436 - val_accuracy: 0.8130\n",
      "Epoch 12/20\n",
      "16/16 [==============================] - 0s 16ms/step - loss: 0.1743 - accuracy: 0.9535 - val_loss: 0.9636 - val_accuracy: 0.8040\n",
      "Epoch 13/20\n",
      "16/16 [==============================] - 0s 16ms/step - loss: 0.1565 - accuracy: 0.9571 - val_loss: 0.9535 - val_accuracy: 0.8110\n",
      "Epoch 14/20\n",
      "16/16 [==============================] - 0s 17ms/step - loss: 0.1352 - accuracy: 0.9581 - val_loss: 0.9739 - val_accuracy: 0.8120\n",
      "Epoch 15/20\n",
      "16/16 [==============================] - 0s 15ms/step - loss: 0.1211 - accuracy: 0.9622 - val_loss: 0.9743 - val_accuracy: 0.8090\n",
      "Epoch 16/20\n",
      "16/16 [==============================] - 0s 20ms/step - loss: 0.1182 - accuracy: 0.9630 - val_loss: 1.0021 - val_accuracy: 0.8150\n",
      "Epoch 17/20\n",
      "16/16 [==============================] - 0s 23ms/step - loss: 0.1027 - accuracy: 0.9663 - val_loss: 1.0329 - val_accuracy: 0.8010\n",
      "Epoch 18/20\n",
      "16/16 [==============================] - 1s 45ms/step - loss: 0.1062 - accuracy: 0.9592 - val_loss: 1.0965 - val_accuracy: 0.8090\n",
      "Epoch 19/20\n",
      "16/16 [==============================] - 0s 25ms/step - loss: 0.1123 - accuracy: 0.9584 - val_loss: 1.1046 - val_accuracy: 0.7980\n",
      "Epoch 20/20\n",
      "16/16 [==============================] - 1s 36ms/step - loss: 0.0961 - accuracy: 0.9625 - val_loss: 1.0821 - val_accuracy: 0.8070\n"
     ]
    }
   ],
   "source": [
    "history = model.fit(partial_x_train,\n",
    "                    partial_y_train,\n",
    "                    epochs=20,\n",
    "                    batch_size=512,\n",
    "                    validation_data=(x_val, y_val))"
   ]
  },
  {
   "cell_type": "code",
   "execution_count": 17,
   "id": "designed-thesaurus",
   "metadata": {},
   "outputs": [
    {
     "data": {
      "image/png": "[encoded data removed]",
      "text/plain": [
       "<Figure size 432x288 with 1 Axes>"
      ]
     },
     "metadata": {
      "needs_background": "light"
     },
     "output_type": "display_data"
    }
   ],
   "source": [
    "import matplotlib.pyplot as plt\n",
    "loss = history.history['loss']\n",
    "val_loss = history.history['val_loss']\n",
    "epochs = range(1, len(loss) + 1)\n",
    "plt.plot(epochs, loss, 'bo', label='Training loss')\n",
    "plt.plot(epochs, val_loss, 'b', label='Validation loss')\n",
    "plt.title('Training and validation loss')\n",
    "plt.xlabel('Epochs')\n",
    "plt.ylabel('Loss')\n",
    "plt.legend()\n",
    "plt.show()"
   ]
  },
  {
   "cell_type": "code",
   "execution_count": 18,
   "id": "fabulous-postcard",
   "metadata": {},
   "outputs": [
    {
     "data": {
      "image/png": "[encoded data removed]",
      "text/plain": [
       "<Figure size 432x288 with 1 Axes>"
      ]
     },
     "metadata": {
      "needs_background": "light"
     },
     "output_type": "display_data"
    }
   ],
   "source": [
    "plt.clf() # clear figure\n",
    "acc = history.history['accuracy']\n",
    "val_acc = history.history['val_accuracy']\n",
    "plt.plot(epochs, acc, 'bo', label='Training acc')\n",
    "plt.plot(epochs, val_acc, 'b', label='Validation acc')\n",
    "plt.title('Training and validation accuracy')\n",
    "plt.xlabel('Epochs')\n",
    "plt.ylabel('Loss')\n",
    "plt.legend()\n",
    "plt.show()"
   ]
  },
  {
   "cell_type": "markdown",
   "id": "close-noise",
   "metadata": {},
   "source": [
    "It seems that the network starts overfitting after 8 epochs. Let’s train a new network from scratch\n",
    "for 8 epochs, then let’s evaluate it on the test set:"
   ]
  },
  {
   "cell_type": "code",
   "execution_count": 19,
   "id": "sustained-extra",
   "metadata": {},
   "outputs": [
    {
     "name": "stdout",
     "output_type": "stream",
     "text": [
      "Epoch 1/8\n",
      "16/16 [==============================] - 1s 34ms/step - loss: 3.0907 - accuracy: 0.4218 - val_loss: 1.7076 - val_accuracy: 0.6240\n",
      "Epoch 2/8\n",
      "16/16 [==============================] - 0s 17ms/step - loss: 1.5064 - accuracy: 0.6785 - val_loss: 1.2864 - val_accuracy: 0.7240\n",
      "Epoch 3/8\n",
      "16/16 [==============================] - 0s 16ms/step - loss: 1.0764 - accuracy: 0.7689 - val_loss: 1.1256 - val_accuracy: 0.7640\n",
      "Epoch 4/8\n",
      "16/16 [==============================] - 0s 15ms/step - loss: 0.8352 - accuracy: 0.8244 - val_loss: 1.0192 - val_accuracy: 0.7950\n",
      "Epoch 5/8\n",
      "16/16 [==============================] - 0s 17ms/step - loss: 0.6641 - accuracy: 0.8648 - val_loss: 0.9489 - val_accuracy: 0.7980\n",
      "Epoch 6/8\n",
      "16/16 [==============================] - 0s 16ms/step - loss: 0.5354 - accuracy: 0.8908 - val_loss: 0.9256 - val_accuracy: 0.8010\n",
      "Epoch 7/8\n",
      "16/16 [==============================] - 0s 16ms/step - loss: 0.4195 - accuracy: 0.9135 - val_loss: 0.9038 - val_accuracy: 0.8140\n",
      "Epoch 8/8\n",
      "16/16 [==============================] - 0s 16ms/step - loss: 0.3578 - accuracy: 0.9260 - val_loss: 0.9083 - val_accuracy: 0.8060\n",
      "71/71 [==============================] - 0s 2ms/step - loss: 1.0059 - accuracy: 0.7814\n"
     ]
    }
   ],
   "source": [
    "model = models.Sequential()\n",
    "model.add(layers.Dense(64, activation='relu', input_shape=(10000,)))\n",
    "model.add(layers.Dense(64, activation='relu'))\n",
    "model.add(layers.Dense(46, activation='softmax'))\n",
    "model.compile(optimizer='rmsprop',\n",
    "              loss='categorical_crossentropy',\n",
    "              metrics=['accuracy'])\n",
    "model.fit(partial_x_train,\n",
    "              partial_y_train,\n",
    "              epochs=8,\n",
    "              batch_size=512,\n",
    "              validation_data=(x_val, y_val))\n",
    "results = model.evaluate(x_test, one_hot_test_labels)"
   ]
  },
  {
   "cell_type": "code",
   "execution_count": 20,
   "id": "amateur-popularity",
   "metadata": {},
   "outputs": [
    {
     "data": {
      "text/plain": [
       "[1.005916953086853, 0.7813891172409058]"
      ]
     },
     "execution_count": 20,
     "metadata": {},
     "output_type": "execute_result"
    }
   ],
   "source": [
    "results"
   ]
  },
  {
   "cell_type": "markdown",
   "id": "referenced-prize",
   "metadata": {},
   "source": [
    "Our approach reaches an accuracy of ~78%. With a balanced binary classification problem, the\n",
    "accuracy reached by a purely random classifier would be 50%, but in our case it is closer to 19%,\n",
    "so our results seem pretty good, at least when compared to a random baseline:"
   ]
  },
  {
   "cell_type": "code",
   "execution_count": 21,
   "id": "nuclear-medline",
   "metadata": {},
   "outputs": [
    {
     "data": {
      "text/plain": [
       "0.1745325022261799"
      ]
     },
     "execution_count": 21,
     "metadata": {},
     "output_type": "execute_result"
    }
   ],
   "source": [
    "import copy\n",
    "test_labels_copy = copy.copy(test_labels)\n",
    "np.random.shuffle(test_labels_copy)\n",
    "float(np.sum(np.array(test_labels) == np.array(test_labels_copy))) / len(test_labels)"
   ]
  },
  {
   "cell_type": "markdown",
   "id": "narrative-atmosphere",
   "metadata": {},
   "source": [
    "Generating predictions on new data \n",
    "We can verify that the predict method of our model\n",
    "instance returns a probability distribution over all 46 topics. Let’s generate topic predictions for\n",
    "all of the test data:"
   ]
  },
  {
   "cell_type": "code",
   "execution_count": 23,
   "id": "understanding-louisville",
   "metadata": {},
   "outputs": [],
   "source": [
    "predictions = model.predict(x_test)"
   ]
  },
  {
   "cell_type": "markdown",
   "id": "suspected-perth",
   "metadata": {},
   "source": [
    "Each entry in predictions is a vector of length 46:"
   ]
  },
  {
   "cell_type": "code",
   "execution_count": 24,
   "id": "swiss-national",
   "metadata": {},
   "outputs": [
    {
     "data": {
      "text/plain": [
       "(46,)"
      ]
     },
     "execution_count": 24,
     "metadata": {},
     "output_type": "execute_result"
    }
   ],
   "source": [
    "predictions[0].shape"
   ]
  },
  {
   "cell_type": "markdown",
   "id": "constant-chamber",
   "metadata": {},
   "source": [
    "The coefficients in this vector sum to 1:"
   ]
  },
  {
   "cell_type": "code",
   "execution_count": 25,
   "id": "hired-evolution",
   "metadata": {},
   "outputs": [
    {
     "data": {
      "text/plain": [
       "0.9999999"
      ]
     },
     "execution_count": 25,
     "metadata": {},
     "output_type": "execute_result"
    }
   ],
   "source": [
    "np.sum(predictions[0])"
   ]
  },
  {
   "cell_type": "markdown",
   "id": "classical-coaching",
   "metadata": {},
   "source": [
    "The largest entry is the predicted class, i.e. the class with the highest probability:"
   ]
  },
  {
   "cell_type": "code",
   "execution_count": 26,
   "id": "removed-opportunity",
   "metadata": {},
   "outputs": [
    {
     "data": {
      "text/plain": [
       "3"
      ]
     },
     "execution_count": 26,
     "metadata": {},
     "output_type": "execute_result"
    }
   ],
   "source": [
    "np.argmax(predictions[0])"
   ]
  },
  {
   "cell_type": "markdown",
   "id": "unsigned-zambia",
   "metadata": {},
   "source": [
    "A different way to handle the labels and the loss \n",
    "We mentioned earlier that another way to encode the labels would be to cast them as an integer tensor, like such:"
   ]
  },
  {
   "cell_type": "code",
   "execution_count": 27,
   "id": "refined-ending",
   "metadata": {},
   "outputs": [],
   "source": [
    "y_train = np.array(train_labels)\n",
    "y_test = np.array(test_labels)"
   ]
  },
  {
   "cell_type": "markdown",
   "id": "dried-storm",
   "metadata": {},
   "source": [
    "The only thing it would change is the choice of the loss function. Our previous loss, categorical_crossentropy, expects the labels to follow a categorical encoding. With integer labels, we should use sparse_categorical_crossentropy:"
   ]
  },
  {
   "cell_type": "code",
   "execution_count": 28,
   "id": "fluid-serum",
   "metadata": {},
   "outputs": [],
   "source": [
    "model.compile(optimizer='rmsprop', loss='sparse_categorical_crossentropy', metrics=['acc'])"
   ]
  },
  {
   "cell_type": "markdown",
   "id": "happy-return",
   "metadata": {},
   "source": [
    "This new loss function is still mathematically the same as categorical_crossentropy; it just has a different interface.\n",
    "\n",
    "On the importance of having sufficiently large intermediate layers We mentioned earlier\n",
    "that since our final outputs were 46-dimensional, we should avoid intermediate layers with much\n",
    "less than 46 hidden units. Now let’s try to see what happens when we introduce an information\n",
    "bottleneck by having intermediate layers significantly less than 46-dimensional, e.g. 4-dimensional."
   ]
  },
  {
   "cell_type": "code",
   "execution_count": 29,
   "id": "authorized-feedback",
   "metadata": {},
   "outputs": [
    {
     "name": "stdout",
     "output_type": "stream",
     "text": [
      "Epoch 1/20\n",
      "63/63 [==============================] - 1s 14ms/step - loss: 3.2875 - accuracy: 0.2245 - val_loss: 2.0773 - val_accuracy: 0.5900\n",
      "Epoch 2/20\n",
      "63/63 [==============================] - 0s 7ms/step - loss: 1.8454 - accuracy: 0.6294 - val_loss: 1.5580 - val_accuracy: 0.6160\n",
      "Epoch 3/20\n",
      "63/63 [==============================] - 0s 7ms/step - loss: 1.3933 - accuracy: 0.6480 - val_loss: 1.4191 - val_accuracy: 0.6260\n",
      "Epoch 4/20\n",
      "63/63 [==============================] - 1s 8ms/step - loss: 1.1805 - accuracy: 0.6780 - val_loss: 1.3439 - val_accuracy: 0.6770\n",
      "Epoch 5/20\n",
      "63/63 [==============================] - 0s 7ms/step - loss: 1.0636 - accuracy: 0.7094 - val_loss: 1.3204 - val_accuracy: 0.6780\n",
      "Epoch 6/20\n",
      "63/63 [==============================] - 0s 7ms/step - loss: 0.9386 - accuracy: 0.7341 - val_loss: 1.3092 - val_accuracy: 0.6830\n",
      "Epoch 7/20\n",
      "63/63 [==============================] - 0s 7ms/step - loss: 0.8552 - accuracy: 0.7515 - val_loss: 1.3306 - val_accuracy: 0.6910\n",
      "Epoch 8/20\n",
      "63/63 [==============================] - 0s 7ms/step - loss: 0.8187 - accuracy: 0.7786 - val_loss: 1.3279 - val_accuracy: 0.7050\n",
      "Epoch 9/20\n",
      "63/63 [==============================] - 0s 7ms/step - loss: 0.7532 - accuracy: 0.7994 - val_loss: 1.3495 - val_accuracy: 0.7010\n",
      "Epoch 10/20\n",
      "63/63 [==============================] - 0s 7ms/step - loss: 0.6923 - accuracy: 0.8148 - val_loss: 1.3534 - val_accuracy: 0.7050\n",
      "Epoch 11/20\n",
      "63/63 [==============================] - 0s 7ms/step - loss: 0.6409 - accuracy: 0.8264 - val_loss: 1.3854 - val_accuracy: 0.7060\n",
      "Epoch 12/20\n",
      "63/63 [==============================] - 0s 7ms/step - loss: 0.6051 - accuracy: 0.8354 - val_loss: 1.4120 - val_accuracy: 0.7020\n",
      "Epoch 13/20\n",
      "63/63 [==============================] - 0s 7ms/step - loss: 0.5547 - accuracy: 0.8525 - val_loss: 1.4480 - val_accuracy: 0.7040\n",
      "Epoch 14/20\n",
      "63/63 [==============================] - 0s 7ms/step - loss: 0.5276 - accuracy: 0.8520 - val_loss: 1.5040 - val_accuracy: 0.7010\n",
      "Epoch 15/20\n",
      "63/63 [==============================] - 0s 7ms/step - loss: 0.4925 - accuracy: 0.8641 - val_loss: 1.5289 - val_accuracy: 0.7020\n",
      "Epoch 16/20\n",
      "63/63 [==============================] - 0s 6ms/step - loss: 0.5034 - accuracy: 0.8528 - val_loss: 1.5808 - val_accuracy: 0.7080\n",
      "Epoch 17/20\n",
      "63/63 [==============================] - 0s 7ms/step - loss: 0.4593 - accuracy: 0.8658 - val_loss: 1.6337 - val_accuracy: 0.7030\n",
      "Epoch 18/20\n",
      "63/63 [==============================] - 0s 7ms/step - loss: 0.4242 - accuracy: 0.8785 - val_loss: 1.6955 - val_accuracy: 0.7060\n",
      "Epoch 19/20\n",
      "63/63 [==============================] - 0s 7ms/step - loss: 0.4285 - accuracy: 0.8771 - val_loss: 1.7835 - val_accuracy: 0.7010\n",
      "Epoch 20/20\n",
      "63/63 [==============================] - 0s 7ms/step - loss: 0.4001 - accuracy: 0.8787 - val_loss: 1.7727 - val_accuracy: 0.7020\n"
     ]
    },
    {
     "data": {
      "text/plain": [
       "<tensorflow.python.keras.callbacks.History at 0x7eff405b3bb0>"
      ]
     },
     "execution_count": 29,
     "metadata": {},
     "output_type": "execute_result"
    }
   ],
   "source": [
    "model = models.Sequential()\n",
    "model.add(layers.Dense(64, activation='relu', input_shape=(10000,)))\n",
    "model.add(layers.Dense(4, activation='relu'))\n",
    "model.add(layers.Dense(46, activation='softmax'))\n",
    "model.compile(optimizer='rmsprop',\n",
    "              loss='categorical_crossentropy',\n",
    "              metrics=['accuracy'])\n",
    "model.fit(partial_x_train,\n",
    "          partial_y_train,\n",
    "          epochs=20,\n",
    "          batch_size=128,\n",
    "          validation_data=(x_val, y_val))"
   ]
  },
  {
   "cell_type": "markdown",
   "id": "electric-tutorial",
   "metadata": {},
   "source": [
    "Our network now seems to peak at ~71% test accuracy, a 8% absolute drop. This drop is mostly\n",
    "due to the fact that we are now trying to compress a lot of information (enough information\n",
    "to recover the separation hyperplanes of 46 classes) into an intermediate space that is too low\u0002dimensional. The network is able to cram most of the necessary information into these 8-dimensional\n",
    "representations, but not all of it."
   ]
  },
  {
   "cell_type": "markdown",
   "id": "compressed-tradition",
   "metadata": {},
   "source": [
    "##### Further experiments\n",
    "• Try using larger or smaller layers: 32 units, 128 units…\n",
    "• We were using two hidden layers. Now try to use a single hidden layer, or three hidden layers."
   ]
  },
  {
   "cell_type": "markdown",
   "id": "appointed-boundary",
   "metadata": {},
   "source": [
    "##### Wrapping up Here’s what you should take away from this example:\n",
    "• If you are trying to classify data points between N classes, your network should end with a Dense layer of size N.\n",
    "• In a single-label, multi-class classification problem, your network should end with a softmax activation, so that it will output a probability distribution over the N output classes.\n",
    "• Categorical crossentropy is almost always the loss function you should use for such problems. It minimizes the distance between the probability distributions output by the network, and the true distribution of the targets.\n",
    "• There are two ways to handle labels in multi-class classification: ** Encoding the labels via “categorical encoding” (also known as “one-hot encoding”) and using categorical_crossentropy as your loss function. ** Encoding the labels as integers and\n",
    "using the sparse_categorical_crossentropy loss function.\n",
    "• If you need to classify data into a large number of categories, then you should avoid creating\n",
    "information bottlenecks in your network by having intermediate layers that are too small."
   ]
  },
  {
   "cell_type": "code",
   "execution_count": null,
   "id": "multiple-cradle",
   "metadata": {},
   "outputs": [],
   "source": []
  }
 ],
 "metadata": {
  "kernelspec": {
   "display_name": "Python 3",
   "language": "python",
   "name": "python3"
  },
  "language_info": {
   "codemirror_mode": {
    "name": "ipython",
    "version": 3
   },
   "file_extension": ".py",
   "mimetype": "text/x-python",
   "name": "python",
   "nbconvert_exporter": "python",
   "pygments_lexer": "ipython3",
   "version": "3.6.10"
  }
 },
 "nbformat": 4,
 "nbformat_minor": 5
}
