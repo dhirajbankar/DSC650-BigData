{
 "cells": [
  {
   "cell_type": "code",
   "execution_count": 1,
   "id": "entertaining-addition",
   "metadata": {},
   "outputs": [],
   "source": [
    "# Import libraries\n",
    "from tensorflow import keras\n",
    "from tensorflow.keras.datasets import mnist\n",
    "from tensorflow.keras.models import Sequential\n",
    "from tensorflow.keras.layers import Dense, Dropout\n",
    "from tensorflow.keras.optimizers import RMSprop"
   ]
  },
  {
   "cell_type": "code",
   "execution_count": 2,
   "id": "worldwide-bottom",
   "metadata": {},
   "outputs": [
    {
     "data": {
      "text/plain": [
       "'2.4.3'"
      ]
     },
     "execution_count": 2,
     "metadata": {},
     "output_type": "execute_result"
    }
   ],
   "source": [
    "import keras\n",
    "keras.__version__"
   ]
  },
  {
   "cell_type": "code",
   "execution_count": 5,
   "id": "cultural-earth",
   "metadata": {},
   "outputs": [
    {
     "name": "stdout",
     "output_type": "stream",
     "text": [
      "Downloading data from https://storage.googleapis.com/tensorflow/tf-keras-datasets/imdb.npz\n",
      "17465344/17464789 [==============================] - 1s 0us/step\n"
     ]
    },
    {
     "name": "stderr",
     "output_type": "stream",
     "text": [
      "<__array_function__ internals>:5: VisibleDeprecationWarning: Creating an ndarray from ragged nested sequences (which is a list-or-tuple of lists-or-tuples-or ndarrays with different lengths or shapes) is deprecated. If you meant to do this, you must specify 'dtype=object' when creating the ndarray\n",
      "/opt/conda/lib/python3.8/site-packages/tensorflow/python/keras/datasets/imdb.py:159: VisibleDeprecationWarning: Creating an ndarray from ragged nested sequences (which is a list-or-tuple of lists-or-tuples-or ndarrays with different lengths or shapes) is deprecated. If you meant to do this, you must specify 'dtype=object' when creating the ndarray\n",
      "  x_train, y_train = np.array(xs[:idx]), np.array(labels[:idx])\n",
      "/opt/conda/lib/python3.8/site-packages/tensorflow/python/keras/datasets/imdb.py:160: VisibleDeprecationWarning: Creating an ndarray from ragged nested sequences (which is a list-or-tuple of lists-or-tuples-or ndarrays with different lengths or shapes) is deprecated. If you meant to do this, you must specify 'dtype=object' when creating the ndarray\n",
      "  x_test, y_test = np.array(xs[idx:]), np.array(labels[idx:])\n"
     ]
    }
   ],
   "source": [
    "# Load the dataset\n",
    "from keras.datasets import imdb\n",
    "(train_data, train_labels), (test_data, test_labels) = imdb.load_data(num_words=10000)"
   ]
  },
  {
   "cell_type": "markdown",
   "id": "impressive-paint",
   "metadata": {},
   "source": [
    "The argument num_words=10000 means that we will only keep the top 10,000 most frequently\n",
    "occurring words in the training data. Rare words will be discarded. This allows us to work with\n",
    "vector data of manageable size. The variables train_data and test_data are lists of reviews, each\n",
    "review being a list of word indices (encoding a sequence of words). train_labels and test_labels\n",
    "are lists of 0s and 1s, where 0 stands for “negative” and 1 stands for “positive”:"
   ]
  },
  {
   "cell_type": "code",
   "execution_count": 6,
   "id": "british-computer",
   "metadata": {},
   "outputs": [
    {
     "data": {
      "text/plain": [
       "[1,\n",
       " 14,\n",
       " 22,\n",
       " 16,\n",
       " 43,\n",
       " 530,\n",
       " 973,\n",
       " 1622,\n",
       " 1385,\n",
       " 65,\n",
       " 458,\n",
       " 4468,\n",
       " 66,\n",
       " 3941,\n",
       " 4,\n",
       " 173,\n",
       " 36,\n",
       " 256,\n",
       " 5,\n",
       " 25,\n",
       " 100,\n",
       " 43,\n",
       " 838,\n",
       " 112,\n",
       " 50,\n",
       " 670,\n",
       " 2,\n",
       " 9,\n",
       " 35,\n",
       " 480,\n",
       " 284,\n",
       " 5,\n",
       " 150,\n",
       " 4,\n",
       " 172,\n",
       " 112,\n",
       " 167,\n",
       " 2,\n",
       " 336,\n",
       " 385,\n",
       " 39,\n",
       " 4,\n",
       " 172,\n",
       " 4536,\n",
       " 1111,\n",
       " 17,\n",
       " 546,\n",
       " 38,\n",
       " 13,\n",
       " 447,\n",
       " 4,\n",
       " 192,\n",
       " 50,\n",
       " 16,\n",
       " 6,\n",
       " 147,\n",
       " 2025,\n",
       " 19,\n",
       " 14,\n",
       " 22,\n",
       " 4,\n",
       " 1920,\n",
       " 4613,\n",
       " 469,\n",
       " 4,\n",
       " 22,\n",
       " 71,\n",
       " 87,\n",
       " 12,\n",
       " 16,\n",
       " 43,\n",
       " 530,\n",
       " 38,\n",
       " 76,\n",
       " 15,\n",
       " 13,\n",
       " 1247,\n",
       " 4,\n",
       " 22,\n",
       " 17,\n",
       " 515,\n",
       " 17,\n",
       " 12,\n",
       " 16,\n",
       " 626,\n",
       " 18,\n",
       " 2,\n",
       " 5,\n",
       " 62,\n",
       " 386,\n",
       " 12,\n",
       " 8,\n",
       " 316,\n",
       " 8,\n",
       " 106,\n",
       " 5,\n",
       " 4,\n",
       " 2223,\n",
       " 5244,\n",
       " 16,\n",
       " 480,\n",
       " 66,\n",
       " 3785,\n",
       " 33,\n",
       " 4,\n",
       " 130,\n",
       " 12,\n",
       " 16,\n",
       " 38,\n",
       " 619,\n",
       " 5,\n",
       " 25,\n",
       " 124,\n",
       " 51,\n",
       " 36,\n",
       " 135,\n",
       " 48,\n",
       " 25,\n",
       " 1415,\n",
       " 33,\n",
       " 6,\n",
       " 22,\n",
       " 12,\n",
       " 215,\n",
       " 28,\n",
       " 77,\n",
       " 52,\n",
       " 5,\n",
       " 14,\n",
       " 407,\n",
       " 16,\n",
       " 82,\n",
       " 2,\n",
       " 8,\n",
       " 4,\n",
       " 107,\n",
       " 117,\n",
       " 5952,\n",
       " 15,\n",
       " 256,\n",
       " 4,\n",
       " 2,\n",
       " 7,\n",
       " 3766,\n",
       " 5,\n",
       " 723,\n",
       " 36,\n",
       " 71,\n",
       " 43,\n",
       " 530,\n",
       " 476,\n",
       " 26,\n",
       " 400,\n",
       " 317,\n",
       " 46,\n",
       " 7,\n",
       " 4,\n",
       " 2,\n",
       " 1029,\n",
       " 13,\n",
       " 104,\n",
       " 88,\n",
       " 4,\n",
       " 381,\n",
       " 15,\n",
       " 297,\n",
       " 98,\n",
       " 32,\n",
       " 2071,\n",
       " 56,\n",
       " 26,\n",
       " 141,\n",
       " 6,\n",
       " 194,\n",
       " 7486,\n",
       " 18,\n",
       " 4,\n",
       " 226,\n",
       " 22,\n",
       " 21,\n",
       " 134,\n",
       " 476,\n",
       " 26,\n",
       " 480,\n",
       " 5,\n",
       " 144,\n",
       " 30,\n",
       " 5535,\n",
       " 18,\n",
       " 51,\n",
       " 36,\n",
       " 28,\n",
       " 224,\n",
       " 92,\n",
       " 25,\n",
       " 104,\n",
       " 4,\n",
       " 226,\n",
       " 65,\n",
       " 16,\n",
       " 38,\n",
       " 1334,\n",
       " 88,\n",
       " 12,\n",
       " 16,\n",
       " 283,\n",
       " 5,\n",
       " 16,\n",
       " 4472,\n",
       " 113,\n",
       " 103,\n",
       " 32,\n",
       " 15,\n",
       " 16,\n",
       " 5345,\n",
       " 19,\n",
       " 178,\n",
       " 32]"
      ]
     },
     "execution_count": 6,
     "metadata": {},
     "output_type": "execute_result"
    }
   ],
   "source": [
    "train_data[0]"
   ]
  },
  {
   "cell_type": "code",
   "execution_count": 7,
   "id": "artificial-traveler",
   "metadata": {},
   "outputs": [
    {
     "data": {
      "text/plain": [
       "1"
      ]
     },
     "execution_count": 7,
     "metadata": {},
     "output_type": "execute_result"
    }
   ],
   "source": [
    "train_labels[0]"
   ]
  },
  {
   "cell_type": "code",
   "execution_count": 8,
   "id": "matched-viewer",
   "metadata": {},
   "outputs": [
    {
     "data": {
      "text/plain": [
       "9999"
      ]
     },
     "execution_count": 8,
     "metadata": {},
     "output_type": "execute_result"
    }
   ],
   "source": [
    "#Since we restricted ourselves to the top 10,000 most frequent words, no word index will exceed 10,000:\n",
    "max([max(sequence) for sequence in train_data])"
   ]
  },
  {
   "cell_type": "markdown",
   "id": "medical-radius",
   "metadata": {},
   "source": [
    "Lastly, we need to pick a loss function and an optimizer. Since we are facing a binary classification\n",
    "problem and the output of our network is a probability (we end our network with a single-unit layer\n",
    "with a sigmoid activation), is it best to use the binary_crossentropy loss. It isn’t the only viable\n",
    "choice: you could use, for instance, mean_squared_error. But crossentropy is usually the best\n",
    "choice when you are dealing with models that output probabilities. Crossentropy is a quantity from\n",
    "the field of Information Theory, that measures the “distance” between probability distributions, or\n",
    "in our case, between the ground-truth distribution and our predictions. Here’s the step where we\n",
    "configure our model with the rmsprop optimizer and the binary_crossentropy loss function. Note\n",
    "that we will also monitor accuracy during training."
   ]
  },
  {
   "cell_type": "code",
   "execution_count": 10,
   "id": "greater-diana",
   "metadata": {},
   "outputs": [
    {
     "name": "stdout",
     "output_type": "stream",
     "text": [
      "Downloading data from https://storage.googleapis.com/tensorflow/tf-keras-datasets/imdb_word_index.json\n",
      "1646592/1641221 [==============================] - 0s 0us/step\n"
     ]
    },
    {
     "data": {
      "text/plain": [
       "\"? this film was just brilliant casting location scenery story direction everyone's really suited the part they played and you could just imagine being there robert ? is an amazing actor and now the same being director ? father came from the same scottish island as myself so i loved the fact there was a real connection with this film the witty remarks throughout the film were great it was just brilliant so much that i bought the film as soon as it was released for ? and would recommend it to everyone to watch and the fly fishing was amazing really cried at the end it was so sad and you know what they say if you cry at a film it must have been good and this definitely was also ? to the two little boy's that played the ? of norman and paul they were just brilliant children are often left out of the ? list i think because the stars that play them all grown up are such a big profile for the whole film but these children are amazing and should be praised for what they have done don't you think the whole story was so lovely because it was true and was someone's life after all that was shared with us all\""
      ]
     },
     "execution_count": 10,
     "metadata": {},
     "output_type": "execute_result"
    }
   ],
   "source": [
    "# word_index is a dictionary mapping words to an integer index\n",
    "word_index = imdb.get_word_index()\n",
    "# We reverse it, mapping integer indices to words\n",
    "reverse_word_index = dict([(value, key) for (key, value) in word_index.items()])\n",
    "# We decode the review; note that our indices were offset by 3\n",
    "# because 0, 1 and 2 are reserved indices for \"padding\", \"start of sequence\", and \"unknown\".\n",
    "decoded_review = ' '.join([reverse_word_index.get(i - 3, '?') for i in train_data[0]])\n",
    "decoded_review"
   ]
  },
  {
   "cell_type": "markdown",
   "id": "advised-responsibility",
   "metadata": {},
   "source": [
    "Preparing the data We cannot feed lists of integers into a neural network. We have to turn\n",
    "our lists into tensors. There are two ways we could do that: We could pad our lists so that they all\n",
    "have the same length, and turn them into an integer tensor of shape (samples, word_indices), then\n",
    "use as first layer in our network a layer capable of handling such integer tensors (the Embedding\n",
    "layer, which we will cover in detail later in the book). We could one-hot-encode our lists to turn\n",
    "them into vectors of 0s and 1s. Concretely, this would mean for instance turning the sequence [3,\n",
    "5] into a 10,000-dimensional vector that would be all-zeros except for indices 3 and 5, which would\n",
    "be ones. Then we could use as first layer in our network a Dense layer, capable of handling floating\n",
    "point vector data. We will go with the latter solution. Let’s vectorize our data, which we will do\n",
    "manually for maximum clarity:"
   ]
  },
  {
   "cell_type": "code",
   "execution_count": 12,
   "id": "prepared-scout",
   "metadata": {},
   "outputs": [],
   "source": [
    "import numpy as np\n",
    "def vectorize_sequences(sequences, dimension=10000):\n",
    "# Create an all-zero matrix of shape (len(sequences), dimension)\n",
    "    results = np.zeros((len(sequences), dimension))\n",
    "    for i, sequence in enumerate(sequences):\n",
    "        results[i, sequence] = 1. # set specific indices of results[i] to 1s\n",
    "    return results\n",
    "# Our vectorized training data\n",
    "x_train = vectorize_sequences(train_data)\n",
    "# Our vectorized test data\n",
    "x_test = vectorize_sequences(test_data)"
   ]
  },
  {
   "cell_type": "code",
   "execution_count": 13,
   "id": "compatible-graphics",
   "metadata": {},
   "outputs": [
    {
     "data": {
      "text/plain": [
       "array([0., 1., 1., ..., 0., 0., 0.])"
      ]
     },
     "execution_count": 13,
     "metadata": {},
     "output_type": "execute_result"
    }
   ],
   "source": [
    "# Print sample\n",
    "x_train[0]"
   ]
  },
  {
   "cell_type": "code",
   "execution_count": 14,
   "id": "incoming-holocaust",
   "metadata": {},
   "outputs": [],
   "source": [
    "# Our vectorized labels\n",
    "y_train = np.asarray(train_labels).astype('float32')\n",
    "y_test = np.asarray(test_labels).astype('float32')"
   ]
  },
  {
   "cell_type": "markdown",
   "id": "joined-label",
   "metadata": {},
   "source": [
    "Now our data is ready to be fed into a neural network. ##### Building our network The input\n",
    "data is simply vectors, and the labels are scalars (1s and 0s): this is the easiest setup you will ever\n",
    "encounter. A type of network that performs well on such a problem would be a simple stack of fullyconnected (Dense) layers with relu activations: Dense(16, activation=‘relu’) The argument being\n",
    "passed to each Dense layer (16) is the number of “hidden units” of the layer. What’s a hidden unit?\n",
    "It’s a dimension in the representation space of the layer. You may remember from the previous\n",
    "chapter that each such Dense layer with a relu activation implements the following chain of tensor\n",
    "operations: output = relu(dot(W, input) + b) Having 16 hidden units means that the weight matrix\n",
    "W will have shape (input_dimension, 16), i.e. the dot product with W will project the input data\n",
    "onto a 16-dimensional representation space (and then we would add the bias vector b and apply the\n",
    "relu operation). You can intuitively understand the dimensionality of your representation space as\n",
    "“how much freedom you are allowing the network to have when learning internal representations”.\n",
    "Having more hidden units (a higherdimensional representation space) allows your network to learn\n",
    "more complex representations, but it makes your network more computationally expensive and may\n",
    "lead to learning unwanted patterns (patterns that will improve performance on the training data\n",
    "but not on the test data). There are two key architecture decisions to be made about such stack\n",
    "of dense layers: How many layers to use. How many “hidden units” to chose for each layer.\n",
    "\n",
    "In the next chapter, you will learn formal principles to guide you in making these choices. For the\n",
    "time being, you will have to trust us with the following architecture choice: two intermediate layers\n",
    "with 16 hidden units each, and a third layer which will output the scalar prediction regarding the\n",
    "sentiment of the current review. The intermediate layers will use relu as their “activation function”,\n",
    "and the final layer will use a sigmoid activation so as to output a probability (a score between 0\n",
    "and 1, indicating how likely the sample is to have the target “1”, i.e. how likely the review is to\n",
    "be positive). A relu (rectified linear unit) is a function meant to zero-out negative values, while a\n",
    "sigmoid “squashes” arbitrary values into the [0, 1] interval, thus outputting something that can be\n",
    "interpreted as a probability."
   ]
  },
  {
   "cell_type": "code",
   "execution_count": 15,
   "id": "assured-worse",
   "metadata": {},
   "outputs": [],
   "source": [
    " #The Keras implementation\n",
    "from keras import models\n",
    "from keras import layers\n",
    "model = models.Sequential()\n",
    "model.add(layers.Dense(16, activation='relu', input_shape=(10000,)))\n",
    "model.add(layers.Dense(16, activation='relu'))\n",
    "model.add(layers.Dense(1, activation='sigmoid'))"
   ]
  },
  {
   "cell_type": "markdown",
   "id": "attended-calendar",
   "metadata": {},
   "source": [
    "Lastly, we need to pick a loss function and an optimizer. Since we are facing a binary classification\n",
    "problem and the output of our network is a probability (we end our network with a single-unit layer\n",
    "with a sigmoid activation), is it best to use the binary_crossentropy loss. It isn’t the only viable\n",
    "choice: you could use, for instance, mean_squared_error. But crossentropy is usually the best\n",
    "choice when you are dealing with models that output probabilities. Crossentropy is a quantity from\n",
    "the field of Information Theory, that measures the “distance” between probability distributions, or\n",
    "in our case, between the ground-truth distribution and our predictions. Here’s the step where we\n",
    "configure our model with the rmsprop optimizer and the binary_crossentropy loss function. Note\n",
    "that we will also monitor accuracy during training."
   ]
  },
  {
   "cell_type": "code",
   "execution_count": 16,
   "id": "acceptable-symphony",
   "metadata": {},
   "outputs": [],
   "source": [
    "model.compile(optimizer='rmsprop',\n",
    "loss='binary_crossentropy',\n",
    "metrics=['accuracy'])"
   ]
  },
  {
   "cell_type": "markdown",
   "id": "naughty-infrastructure",
   "metadata": {},
   "source": [
    "We are passing our optimizer, loss function and metrics as strings, which is possible because rmsprop, binary_crossentropy and accuracy are packaged as part of Keras. Sometimes you may want\n",
    "to configure the parameters of your optimizer, or pass a custom loss function or metric function.\n",
    "This former can be done by passing an optimizer class instance as the optimizer argument:"
   ]
  },
  {
   "cell_type": "code",
   "execution_count": 17,
   "id": "nominated-dress",
   "metadata": {},
   "outputs": [],
   "source": [
    "from keras import optimizers\n",
    "model.compile(optimizer=optimizers.RMSprop(lr=0.001),\n",
    "loss='binary_crossentropy',\n",
    "metrics=['accuracy'])\n",
    "from keras import losses\n",
    "from keras import metrics\n",
    "model.compile(optimizer=optimizers.RMSprop(lr=0.001),\n",
    "loss=losses.binary_crossentropy,\n",
    "metrics=[metrics.binary_accuracy])"
   ]
  },
  {
   "cell_type": "markdown",
   "id": "supposed-buffer",
   "metadata": {},
   "source": [
    "Validating our approach In order to monitor during training the accuracy of the model on\n",
    "data that it has never seen before, we will create a “validation set” by setting apart 10,000 samples\n",
    "from the original training data:"
   ]
  },
  {
   "cell_type": "code",
   "execution_count": 18,
   "id": "rotary-palestine",
   "metadata": {},
   "outputs": [],
   "source": [
    "x_val = x_train[:10000]\n",
    "partial_x_train = x_train[10000:]\n",
    "y_val = y_train[:10000]\n",
    "partial_y_train = y_train[10000:]"
   ]
  },
  {
   "cell_type": "markdown",
   "id": "manual-drain",
   "metadata": {},
   "source": [
    "We will now train our model for 20 epochs (20 iterations over all samples in the x_train and\n",
    "y_train tensors), in mini-batches of 512 samples. At this same time we will monitor loss and\n",
    "accuracy on the 10,000 samples that we set apart. This is done by passing the validation data as\n",
    "the validation_data argument:"
   ]
  },
  {
   "cell_type": "code",
   "execution_count": 19,
   "id": "critical-evaluation",
   "metadata": {},
   "outputs": [
    {
     "name": "stdout",
     "output_type": "stream",
     "text": [
      "Epoch 1/20\n",
      "30/30 [==============================] - 3s 61ms/step - loss: 0.5896 - binary_accuracy: 0.6966 - val_loss: 0.3877 - val_binary_accuracy: 0.8690\n",
      "Epoch 2/20\n",
      "30/30 [==============================] - 0s 13ms/step - loss: 0.3270 - binary_accuracy: 0.8994 - val_loss: 0.3082 - val_binary_accuracy: 0.8879\n",
      "Epoch 3/20\n",
      "30/30 [==============================] - 0s 12ms/step - loss: 0.2300 - binary_accuracy: 0.9317 - val_loss: 0.2924 - val_binary_accuracy: 0.8826\n",
      "Epoch 4/20\n",
      "30/30 [==============================] - 0s 14ms/step - loss: 0.1816 - binary_accuracy: 0.9443 - val_loss: 0.2919 - val_binary_accuracy: 0.8820\n",
      "Epoch 5/20\n",
      "30/30 [==============================] - 0s 12ms/step - loss: 0.1424 - binary_accuracy: 0.9544 - val_loss: 0.2918 - val_binary_accuracy: 0.8826\n",
      "Epoch 6/20\n",
      "30/30 [==============================] - 0s 13ms/step - loss: 0.1152 - binary_accuracy: 0.9659 - val_loss: 0.2932 - val_binary_accuracy: 0.8837\n",
      "Epoch 7/20\n",
      "30/30 [==============================] - 0s 14ms/step - loss: 0.0935 - binary_accuracy: 0.9745 - val_loss: 0.3382 - val_binary_accuracy: 0.8744\n",
      "Epoch 8/20\n",
      "30/30 [==============================] - 0s 11ms/step - loss: 0.0819 - binary_accuracy: 0.9788 - val_loss: 0.3386 - val_binary_accuracy: 0.8778\n",
      "Epoch 9/20\n",
      "30/30 [==============================] - 0s 12ms/step - loss: 0.0647 - binary_accuracy: 0.9834 - val_loss: 0.3585 - val_binary_accuracy: 0.8784\n",
      "Epoch 10/20\n",
      "30/30 [==============================] - 0s 12ms/step - loss: 0.0500 - binary_accuracy: 0.9894 - val_loss: 0.3940 - val_binary_accuracy: 0.8716\n",
      "Epoch 11/20\n",
      "30/30 [==============================] - 0s 12ms/step - loss: 0.0412 - binary_accuracy: 0.9924 - val_loss: 0.4084 - val_binary_accuracy: 0.8719\n",
      "Epoch 12/20\n",
      "30/30 [==============================] - 0s 13ms/step - loss: 0.0300 - binary_accuracy: 0.9952 - val_loss: 0.4425 - val_binary_accuracy: 0.8705\n",
      "Epoch 13/20\n",
      "30/30 [==============================] - 0s 11ms/step - loss: 0.0229 - binary_accuracy: 0.9963 - val_loss: 0.4636 - val_binary_accuracy: 0.8720\n",
      "Epoch 14/20\n",
      "30/30 [==============================] - 0s 14ms/step - loss: 0.0162 - binary_accuracy: 0.9988 - val_loss: 0.5063 - val_binary_accuracy: 0.8678\n",
      "Epoch 15/20\n",
      "30/30 [==============================] - 0s 15ms/step - loss: 0.0143 - binary_accuracy: 0.9984 - val_loss: 0.5355 - val_binary_accuracy: 0.8679\n",
      "Epoch 16/20\n",
      "30/30 [==============================] - 1s 19ms/step - loss: 0.0093 - binary_accuracy: 0.9996 - val_loss: 0.5828 - val_binary_accuracy: 0.8639\n",
      "Epoch 17/20\n",
      "30/30 [==============================] - 0s 15ms/step - loss: 0.0076 - binary_accuracy: 0.9996 - val_loss: 0.6096 - val_binary_accuracy: 0.8678\n",
      "Epoch 18/20\n",
      "30/30 [==============================] - 0s 13ms/step - loss: 0.0055 - binary_accuracy: 0.9996 - val_loss: 0.6483 - val_binary_accuracy: 0.8658\n",
      "Epoch 19/20\n",
      "30/30 [==============================] - 0s 12ms/step - loss: 0.0045 - binary_accuracy: 0.9995 - val_loss: 0.6728 - val_binary_accuracy: 0.8656\n",
      "Epoch 20/20\n",
      "30/30 [==============================] - 0s 14ms/step - loss: 0.0025 - binary_accuracy: 0.9998 - val_loss: 0.7014 - val_binary_accuracy: 0.8658\n"
     ]
    }
   ],
   "source": [
    "history = model.fit(partial_x_train,\n",
    "partial_y_train,\n",
    "epochs=20,\n",
    "batch_size=512,\n",
    "validation_data=(x_val, y_val))"
   ]
  },
  {
   "cell_type": "markdown",
   "id": "virgin-advocacy",
   "metadata": {},
   "source": [
    "On CPU, this will take less than two seconds per epoch – training is over in 20 seconds. At the end\n",
    "of every epoch, there is a slight pause as the model computes its loss and accuracy on the 10,000\n",
    "samples of the validation data. Note that the call to model.fit() returns a History object. This\n",
    "object has a member history, which is a dictionary containing data about everything that happened\n",
    "during training. Let’s take a look at it:"
   ]
  },
  {
   "cell_type": "code",
   "execution_count": 20,
   "id": "worthy-signal",
   "metadata": {},
   "outputs": [
    {
     "name": "stdout",
     "output_type": "stream",
     "text": [
      "{'loss': [0.5123856067657471, 0.3122806251049042, 0.2284364402294159, 0.1773068755865097, 0.14459958672523499, 0.11971823871135712, 0.0974646732211113, 0.0787084773182869, 0.06650476157665253, 0.05193771421909332, 0.042120419442653656, 0.03287658840417862, 0.025849439203739166, 0.01722315326333046, 0.01825743354856968, 0.009537484496831894, 0.007908914238214493, 0.0060765622183680534, 0.005719542969018221, 0.004205117933452129], 'binary_accuracy': [0.7807999849319458, 0.8978000283241272, 0.9264666438102722, 0.9437333345413208, 0.9519333243370056, 0.9629999995231628, 0.9708666801452637, 0.9793333411216736, 0.9819999933242798, 0.9877333045005798, 0.9911999702453613, 0.9932000041007996, 0.9946666955947876, 0.9982666373252869, 0.996999979019165, 0.9994666576385498, 0.9994666576385498, 0.9995333552360535, 0.9992666840553284, 0.9994666576385498], 'val_loss': [0.3876972794532776, 0.30822816491127014, 0.2923900783061981, 0.2918720245361328, 0.2917558550834656, 0.29323020577430725, 0.3382079303264618, 0.3386070430278778, 0.35846075415611267, 0.39401987195014954, 0.4084009528160095, 0.44254830479621887, 0.46361055970191956, 0.5063155889511108, 0.5354788303375244, 0.5827764868736267, 0.6095966100692749, 0.6483209729194641, 0.6727501749992371, 0.7013818621635437], 'val_binary_accuracy': [0.8690000176429749, 0.8878999948501587, 0.8826000094413757, 0.8820000290870667, 0.8826000094413757, 0.8837000131607056, 0.8744000196456909, 0.8777999877929688, 0.8784000277519226, 0.8715999722480774, 0.8719000220298767, 0.8705000281333923, 0.871999979019165, 0.8677999973297119, 0.867900013923645, 0.8639000058174133, 0.8677999973297119, 0.8658000230789185, 0.8655999898910522, 0.8658000230789185]}\n"
     ]
    }
   ],
   "source": [
    "history_dict = history.history\n",
    "history_dict.keys()\n",
    "#dict_keys(['loss', 'val_loss', 'binary_accuracy', 'val_binary_accuracy'])\n",
    "#history_dict = history.history\n",
    "print(history_dict)"
   ]
  },
  {
   "cell_type": "markdown",
   "id": "crude-output",
   "metadata": {},
   "source": [
    "It contains 4 entries: one per metric that was being monitored, during training and during validation. Let’s use Matplotlib to plot the training and validation loss side by side, as well as the\n",
    "training and validation accuracy:"
   ]
  },
  {
   "cell_type": "code",
   "execution_count": 21,
   "id": "verbal-damages",
   "metadata": {},
   "outputs": [
    {
     "data": {
      "image/png": "[encoded data removed]",
      "text/plain": [
       "<Figure size 432x288 with 1 Axes>"
      ]
     },
     "metadata": {
      "needs_background": "light"
     },
     "output_type": "display_data"
    }
   ],
   "source": [
    "import matplotlib.pyplot as plt\n",
    "acc = history.history['binary_accuracy']\n",
    "val_acc = history.history['val_binary_accuracy']\n",
    "#acc = history.history['acc']\n",
    "#val_acc = history.history['val_acc']\n",
    "loss = history.history['loss']\n",
    "val_loss = history.history['val_loss']\n",
    "epochs = range(1, len(acc) + 1)\n",
    "# \"bo\" is for \"blue dot\"\n",
    "plt.plot(epochs, loss, 'bo', label='Training loss')\n",
    "# b is for \"solid blue line\"\n",
    "plt.plot(epochs, val_loss, 'b', label='Validation loss')\n",
    "plt.title('Training and validation loss')\n",
    "plt.xlabel('Epochs')\n",
    "plt.ylabel('Loss')\n",
    "plt.legend()\n",
    "plt.show()"
   ]
  },
  {
   "cell_type": "code",
   "execution_count": 22,
   "id": "waiting-poison",
   "metadata": {},
   "outputs": [
    {
     "data": {
      "image/png": "[encoded data removed]",
      "text/plain": [
       "<Figure size 432x288 with 1 Axes>"
      ]
     },
     "metadata": {
      "needs_background": "light"
     },
     "output_type": "display_data"
    }
   ],
   "source": [
    "plt.clf() # clear figure\n",
    "#acc_values = history_dict['acc']\n",
    "#val_acc_values = history_dict['val_acc']\n",
    "acc = history.history['binary_accuracy']\n",
    "val_acc = history.history['val_binary_accuracy']\n",
    "plt.plot(epochs, acc, 'bo', label='Training acc')\n",
    "plt.plot(epochs, val_acc, 'b', label='Validation acc')\n",
    "plt.title('Training and validation accuracy')\n",
    "plt.xlabel('Epochs')\n",
    "plt.ylabel('Loss')\n",
    "plt.legend()\n",
    "plt.show()"
   ]
  },
  {
   "cell_type": "markdown",
   "id": "lightweight-michael",
   "metadata": {},
   "source": [
    "The dots are the training loss and accuracy, while the solid lines are the validation loss and accuracy.\n",
    "Note that your own results may vary slightly due to a different random initialization of your network.\n",
    "As you can see, the training loss decreases with every epoch and the training accuracy increases\n",
    "with every epoch. That’s what you would expect when running gradient descent optimization – the\n",
    "quantity you are trying to minimize should get lower with every iteration. But that isn’t the case\n",
    "for the validation loss and accuracy: they seem to peak at the fourth epoch. This is an example\n",
    "of what we were warning against earlier: a model that performs better on the training data isn’t\n",
    "necessarily a model that will do better on data it has never seen before. In precise terms, what you\n",
    "are seeing is “overfitting”: after the second epoch, we are over-optimizing on the training data, and\n",
    "we ended up learning representations that are specific to the training data and do not generalize to\n",
    "data outside of the training set. In this case, to prevent overfitting, we could simply stop training\n",
    "after three epochs. In general, there is a range of techniques you can leverage to mitigate overfitting,\n",
    "which we will cover in the next chapter. Let’s train a new network from scratch for four epochs,\n",
    "then evaluate it on our test data:"
   ]
  },
  {
   "cell_type": "code",
   "execution_count": 23,
   "id": "floating-gardening",
   "metadata": {},
   "outputs": [
    {
     "name": "stdout",
     "output_type": "stream",
     "text": [
      "Epoch 1/4\n",
      "49/49 [==============================] - 1s 11ms/step - loss: 0.5418 - accuracy: 0.7406\n",
      "Epoch 2/4\n",
      "49/49 [==============================] - 0s 9ms/step - loss: 0.2661 - accuracy: 0.9120\n",
      "Epoch 3/4\n",
      "49/49 [==============================] - 0s 9ms/step - loss: 0.2003 - accuracy: 0.9277\n",
      "Epoch 4/4\n",
      "49/49 [==============================] - 0s 8ms/step - loss: 0.1591 - accuracy: 0.9446\n",
      "782/782 [==============================] - 2s 2ms/step - loss: 0.3110 - accuracy: 0.8787\n"
     ]
    }
   ],
   "source": [
    "model = models.Sequential()\n",
    "model.add(layers.Dense(16, activation='relu', input_shape=(10000,)))\n",
    "model.add(layers.Dense(16, activation='relu'))\n",
    "model.add(layers.Dense(1, activation='sigmoid'))\n",
    "model.compile(optimizer='rmsprop',\n",
    "loss='binary_crossentropy',\n",
    "metrics=['accuracy'])\n",
    "model.fit(x_train, y_train, epochs=4, batch_size=512)\n",
    "results = model.evaluate(x_test, y_test)"
   ]
  },
  {
   "cell_type": "code",
   "execution_count": 24,
   "id": "behavioral-bottle",
   "metadata": {},
   "outputs": [
    {
     "data": {
      "text/plain": [
       "[0.3109950125217438, 0.8786799907684326]"
      ]
     },
     "execution_count": 24,
     "metadata": {},
     "output_type": "execute_result"
    }
   ],
   "source": [
    "results"
   ]
  },
  {
   "cell_type": "markdown",
   "id": "boolean-height",
   "metadata": {},
   "source": [
    "Our fairly naive approach achieves an accuracy of 88%. With state-of-the-art approaches, one should be able to get close to 95%.\n",
    "\n",
    "Using a trained network to generate predictions on new data After having trained a\n",
    "network, you will want to use it in a practical setting. You can generate the likelihood of reviews\n",
    "being positive by using the predict method:"
   ]
  },
  {
   "cell_type": "code",
   "execution_count": 25,
   "id": "adverse-special",
   "metadata": {},
   "outputs": [
    {
     "data": {
      "text/plain": [
       "array([[0.18303666],\n",
       "       [0.9999194 ],\n",
       "       [0.971292  ],\n",
       "       ...,\n",
       "       [0.15059358],\n",
       "       [0.11548319],\n",
       "       [0.78961325]], dtype=float32)"
      ]
     },
     "execution_count": 25,
     "metadata": {},
     "output_type": "execute_result"
    }
   ],
   "source": [
    "model.predict(x_test)"
   ]
  },
  {
   "cell_type": "markdown",
   "id": "black-contact",
   "metadata": {},
   "source": [
    "As you can see, the network is very confident for some samples (0.99 or more, or 0.01 or less) but\n",
    "less confident for others (0.6, 0.4)."
   ]
  },
  {
   "cell_type": "markdown",
   "id": "plain-student",
   "metadata": {},
   "source": [
    "Conclusion There’s usually quite a bit of preprocessing you need to do on your raw data in order to be able to feed it – as tensors – into a neural network. In the case of sequences of words, they can be encoded as binary vectors – but there are other encoding options too. Stacks of Dense layers with relu activations can solve a wide range of problems (including sentiment classification), and you will likely use them frequently. In a binary classification problem (two output classes), your network should end with a Dense layer with 1 unit and a sigmoid activation, i.e. the output of your network should be a scalar between 0 and 1, encoding a probability. With such a scalar sigmoid output, on a binary classification problem, the loss function you should use is binary_crossentropy. The rmsprop optimizer is generally a good enough choice of optimizer, whatever your problem."
   ]
  },
  {
   "cell_type": "code",
   "execution_count": null,
   "id": "upset-string",
   "metadata": {},
   "outputs": [],
   "source": []
  }
 ],
 "metadata": {
  "kernelspec": {
   "display_name": "Python 3",
   "language": "python",
   "name": "python3"
  },
  "language_info": {
   "codemirror_mode": {
    "name": "ipython",
    "version": 3
   },
   "file_extension": ".py",
   "mimetype": "text/x-python",
   "name": "python",
   "nbconvert_exporter": "python",
   "pygments_lexer": "ipython3",
   "version": "3.6.10"
  }
 },
 "nbformat": 4,
 "nbformat_minor": 5
}
