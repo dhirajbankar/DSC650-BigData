{
 "cells": [
  {
   "cell_type": "markdown",
   "id": "excess-sussex",
   "metadata": {},
   "source": [
    "### Create a tokenize function"
   ]
  },
  {
   "cell_type": "code",
   "execution_count": 1,
   "id": "indoor-dress",
   "metadata": {},
   "outputs": [],
   "source": [
    "import string"
   ]
  },
  {
   "cell_type": "code",
   "execution_count": 2,
   "id": "final-automation",
   "metadata": {},
   "outputs": [],
   "source": [
    "def tokenize(sentence):\n",
    "    # Split the sentence by spaces\n",
    "    words = sentence.split()\n",
    "    # Remove punctuation\n",
    "    table = str.maketrans('', '', string.punctuation)\n",
    "    stripped = [w.translate(table) for w in words]\n",
    "    return stripped"
   ]
  },
  {
   "cell_type": "code",
   "execution_count": 3,
   "id": "entitled-lancaster",
   "metadata": {},
   "outputs": [
    {
     "name": "stdout",
     "output_type": "stream",
     "text": [
      "<class 'list'>\n",
      "['This', 'is', 'my', 'sentence', 'to', 'parse', 'Get', 'all', 'punctuation', 'out', 'of', 'here']\n"
     ]
    }
   ],
   "source": [
    "sentence = \"This is my sentence, to parse. Get all punctuation out# of here!\"\n",
    "tokens = tokenize(sentence)\n",
    "print(type(tokens))\n",
    "print(tokens)"
   ]
  },
  {
   "cell_type": "markdown",
   "id": "patent-prerequisite",
   "metadata": {},
   "source": [
    "#### 10.1 b"
   ]
  },
  {
   "cell_type": "code",
   "execution_count": 6,
   "id": "portable-wayne",
   "metadata": {},
   "outputs": [],
   "source": [
    "import nltk"
   ]
  },
  {
   "cell_type": "code",
   "execution_count": 7,
   "id": "tribal-gather",
   "metadata": {},
   "outputs": [],
   "source": [
    "def ngram(paragraph, n):\n",
    "    # Split the sentence by spaces\n",
    "    words = paragraph.split()\n",
    "    # Remove punctuation\n",
    "    table = str.maketrans('', '', string.punctuation)\n",
    "    stripped = [w.translate(table) for w in words]\n",
    "    bi_grams = nltk.ngrams(stripped, n)\n",
    "    return bi_grams"
   ]
  },
  {
   "cell_type": "code",
   "execution_count": 8,
   "id": "exclusive-truth",
   "metadata": {},
   "outputs": [
    {
     "name": "stdout",
     "output_type": "stream",
     "text": [
      "('This', 'is', 'my')\n",
      "('is', 'my', 'sentence')\n",
      "('my', 'sentence', 'to')\n",
      "('sentence', 'to', 'parse')\n",
      "('to', 'parse', 'Get')\n",
      "('parse', 'Get', 'all')\n",
      "('Get', 'all', 'punctuation')\n",
      "('all', 'punctuation', 'out')\n",
      "('punctuation', 'out', 'of')\n",
      "('out', 'of', 'here')\n"
     ]
    }
   ],
   "source": [
    "paragraph = \"This is my sentence, to parse. Get all punctuation out# of here!\"\n",
    "bi_grams = ngram(paragraph, 3)\n",
    "for gram in bi_grams:\n",
    "    print(gram)"
   ]
  },
  {
   "cell_type": "markdown",
   "id": "played-sheet",
   "metadata": {},
   "source": [
    "#### 10.1 c"
   ]
  },
  {
   "cell_type": "code",
   "execution_count": 9,
   "id": "vanilla-citation",
   "metadata": {},
   "outputs": [],
   "source": [
    "import string\n",
    "import nltk\n",
    "from numpy import array\n",
    "from numpy import argmax\n",
    "from keras.utils import to_categorical"
   ]
  },
  {
   "cell_type": "code",
   "execution_count": 10,
   "id": "dietary-samoa",
   "metadata": {},
   "outputs": [],
   "source": [
    "def onehtencode(data):\n",
    "    data = array(data)\n",
    "    print(\"Received array\")\n",
    "    print(data)\n",
    "    # one hot encode\n",
    "    encoded = to_categorical(data)\n",
    "    return encoded"
   ]
  },
  {
   "cell_type": "code",
   "execution_count": 11,
   "id": "transsexual-writing",
   "metadata": {},
   "outputs": [
    {
     "name": "stdout",
     "output_type": "stream",
     "text": [
      "Received array\n",
      "[1 3 2 0 3 2 2 1 0 1]\n",
      "One Hot Encoded values\n",
      "[[0. 1. 0. 0.]\n",
      " [0. 0. 0. 1.]\n",
      " [0. 0. 1. 0.]\n",
      " [1. 0. 0. 0.]\n",
      " [0. 0. 0. 1.]\n",
      " [0. 0. 1. 0.]\n",
      " [0. 0. 1. 0.]\n",
      " [0. 1. 0. 0.]\n",
      " [1. 0. 0. 0.]\n",
      " [0. 1. 0. 0.]]\n"
     ]
    }
   ],
   "source": [
    "data = [1, 3, 2, 0, 3, 2, 2, 1, 0, 1]\n",
    "encodedval = onehtencode(data)\n",
    "print(\"One Hot Encoded values\")\n",
    "print(encodedval)"
   ]
  },
  {
   "cell_type": "code",
   "execution_count": null,
   "id": "political-imagination",
   "metadata": {},
   "outputs": [],
   "source": []
  }
 ],
 "metadata": {
  "kernelspec": {
   "display_name": "Python 3",
   "language": "python",
   "name": "python3"
  },
  "language_info": {
   "codemirror_mode": {
    "name": "ipython",
    "version": 3
   },
   "file_extension": ".py",
   "mimetype": "text/x-python",
   "name": "python",
   "nbconvert_exporter": "python",
   "pygments_lexer": "ipython3",
   "version": "3.8.8"
  }
 },
 "nbformat": 4,
 "nbformat_minor": 5
}
