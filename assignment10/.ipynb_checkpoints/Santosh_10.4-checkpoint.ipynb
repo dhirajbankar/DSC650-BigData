{
 "cells": [
  {
   "cell_type": "code",
   "execution_count": 1,
   "id": "tender-blond",
   "metadata": {},
   "outputs": [
    {
     "name": "stdout",
     "output_type": "stream",
     "text": [
      "WARNING:tensorflow:From /opt/conda/lib/python3.8/site-packages/tensorflow/python/compat/v2_compat.py:96: disable_resource_variables (from tensorflow.python.ops.variable_scope) is deprecated and will be removed in a future version.\n",
      "Instructions for updating:\n",
      "non-resource variables are not supported in the long term\n"
     ]
    }
   ],
   "source": [
    "import tensorflow.compat.v1 as tf\n",
    "import matplotlib.pyplot as plt\n",
    "tf.disable_v2_behavior()"
   ]
  },
  {
   "cell_type": "code",
   "execution_count": 2,
   "id": "superb-glucose",
   "metadata": {},
   "outputs": [],
   "source": [
    "from keras.models import Sequential\n",
    "from keras import layers\n",
    "from keras.optimizers import RMSprop\n",
    "from keras.datasets import imdb\n",
    "from keras.preprocessing import sequence\n",
    "from contextlib import redirect_stdout\n",
    "from pathlib import Path\n",
    "import time\n",
    "start_time = time.time()"
   ]
  },
  {
   "cell_type": "code",
   "execution_count": 3,
   "id": "nearby-malawi",
   "metadata": {},
   "outputs": [],
   "source": [
    "results_dir = Path('results').joinpath('model_1')\n",
    "results_dir.mkdir(parents=True, exist_ok=True)"
   ]
  },
  {
   "cell_type": "code",
   "execution_count": 4,
   "id": "developing-romania",
   "metadata": {},
   "outputs": [
    {
     "name": "stdout",
     "output_type": "stream",
     "text": [
      "Loading data ...\n"
     ]
    },
    {
     "name": "stderr",
     "output_type": "stream",
     "text": [
      "<__array_function__ internals>:5: VisibleDeprecationWarning: Creating an ndarray from ragged nested sequences (which is a list-or-tuple of lists-or-tuples-or ndarrays with different lengths or shapes) is deprecated. If you meant to do this, you must specify 'dtype=object' when creating the ndarray\n",
      "/opt/conda/lib/python3.8/site-packages/tensorflow/python/keras/datasets/imdb.py:159: VisibleDeprecationWarning: Creating an ndarray from ragged nested sequences (which is a list-or-tuple of lists-or-tuples-or ndarrays with different lengths or shapes) is deprecated. If you meant to do this, you must specify 'dtype=object' when creating the ndarray\n",
      "  x_train, y_train = np.array(xs[:idx]), np.array(labels[:idx])\n",
      "/opt/conda/lib/python3.8/site-packages/tensorflow/python/keras/datasets/imdb.py:160: VisibleDeprecationWarning: Creating an ndarray from ragged nested sequences (which is a list-or-tuple of lists-or-tuples-or ndarrays with different lengths or shapes) is deprecated. If you meant to do this, you must specify 'dtype=object' when creating the ndarray\n",
      "  x_test, y_test = np.array(xs[idx:]), np.array(labels[idx:])\n"
     ]
    },
    {
     "name": "stdout",
     "output_type": "stream",
     "text": [
      "25000 train sequences\n",
      "25000 test sequences\n",
      "Pad sequences (samples x time)\n",
      "x_train shape: (25000, 500)\n",
      "x_test shape: (25000, 500)\n"
     ]
    }
   ],
   "source": [
    "max_features = 10000\n",
    "max_len = 500\n",
    "print('Loading data ...')\n",
    "(x_train, y_train), (x_test, y_test) = imdb.load_data(num_words=max_features)\n",
    "print(len(x_train), 'train sequences')\n",
    "print(len(x_test), 'test sequences')\n",
    "print('Pad sequences (samples x time)')\n",
    "x_train = sequence.pad_sequences(x_train, maxlen = max_len)\n",
    "x_test = sequence.pad_sequences(x_test, maxlen = max_len)\n",
    "print('x_train shape:', x_train.shape)\n",
    "print('x_test shape:', x_test.shape)\n"
   ]
  },
  {
   "cell_type": "code",
   "execution_count": 5,
   "id": "floppy-treaty",
   "metadata": {},
   "outputs": [
    {
     "name": "stdout",
     "output_type": "stream",
     "text": [
      "WARNING:tensorflow:From /opt/conda/lib/python3.8/site-packages/tensorflow/python/keras/initializers/initializers_v1.py:58: calling RandomUniform.__init__ (from tensorflow.python.ops.init_ops) with dtype is deprecated and will be removed in a future version.\n",
      "Instructions for updating:\n",
      "Call initializer instance with the dtype argument instead of passing it to the constructor\n",
      "Model: \"sequential\"\n",
      "_________________________________________________________________\n",
      "Layer (type)                 Output Shape              Param #   \n",
      "=================================================================\n",
      "embedding (Embedding)        (None, 500, 128)          1280000   \n",
      "_________________________________________________________________\n",
      "conv1d (Conv1D)              (None, 494, 32)           28704     \n",
      "_________________________________________________________________\n",
      "max_pooling1d (MaxPooling1D) (None, 98, 32)            0         \n",
      "_________________________________________________________________\n",
      "conv1d_1 (Conv1D)            (None, 92, 32)            7200      \n",
      "_________________________________________________________________\n",
      "global_max_pooling1d (Global (None, 32)                0         \n",
      "_________________________________________________________________\n",
      "dense (Dense)                (None, 1)                 33        \n",
      "=================================================================\n",
      "Total params: 1,315,937\n",
      "Trainable params: 1,315,937\n",
      "Non-trainable params: 0\n",
      "_________________________________________________________________\n"
     ]
    }
   ],
   "source": [
    "model = Sequential()\n",
    "model.add(layers.Embedding(max_features, 128, input_length=max_len))\n",
    "model.add(layers.Conv1D(32, 7, activation='relu'))\n",
    "model.add(layers.MaxPooling1D(5))\n",
    "model.add(layers.Conv1D(32, 7, activation='relu'))\n",
    "model.add(layers.GlobalMaxPooling1D())\n",
    "model.add(layers.Dense(1))\n",
    "model.summary()"
   ]
  },
  {
   "cell_type": "code",
   "execution_count": 6,
   "id": "wired-distinction",
   "metadata": {},
   "outputs": [
    {
     "name": "stdout",
     "output_type": "stream",
     "text": [
      "Train on 20000 samples, validate on 5000 samples\n",
      "Epoch 1/10\n",
      "19968/20000 [============================>.] - ETA: 0s - loss: 0.7256 - acc: 0.5270"
     ]
    },
    {
     "name": "stderr",
     "output_type": "stream",
     "text": [
      "/opt/conda/lib/python3.8/site-packages/tensorflow/python/keras/engine/training.py:2325: UserWarning: `Model.state_updates` will be removed in a future version. This property should not be used in TensorFlow 2.0, as `updates` are applied automatically.\n",
      "  warnings.warn('`Model.state_updates` will be removed in a future version. '\n"
     ]
    },
    {
     "name": "stdout",
     "output_type": "stream",
     "text": [
      "20000/20000 [==============================] - 10s 490us/sample - loss: 0.7255 - acc: 0.5272 - val_loss: 0.6845 - val_acc: 0.5802\n",
      "Epoch 2/10\n",
      "20000/20000 [==============================] - 11s 533us/sample - loss: 0.6626 - acc: 0.6740 - val_loss: 0.6656 - val_acc: 0.5954\n",
      "Epoch 3/10\n",
      "20000/20000 [==============================] - 10s 484us/sample - loss: 0.6167 - acc: 0.7633 - val_loss: 0.6083 - val_acc: 0.7454\n",
      "Epoch 4/10\n",
      "20000/20000 [==============================] - 10s 484us/sample - loss: 0.5265 - acc: 0.8128 - val_loss: 0.5018 - val_acc: 0.7966\n",
      "Epoch 5/10\n",
      "20000/20000 [==============================] - 9s 469us/sample - loss: 0.4130 - acc: 0.8451 - val_loss: 0.4260 - val_acc: 0.8304\n",
      "Epoch 6/10\n",
      "20000/20000 [==============================] - 9s 466us/sample - loss: 0.3482 - acc: 0.8729 - val_loss: 0.4204 - val_acc: 0.8380\n",
      "Epoch 7/10\n",
      "20000/20000 [==============================] - 10s 478us/sample - loss: 0.3031 - acc: 0.8910 - val_loss: 0.3830 - val_acc: 0.8590\n",
      "Epoch 8/10\n",
      "20000/20000 [==============================] - 10s 480us/sample - loss: 0.2693 - acc: 0.9065 - val_loss: 0.4141 - val_acc: 0.8572\n",
      "Epoch 9/10\n",
      "20000/20000 [==============================] - 9s 472us/sample - loss: 0.2416 - acc: 0.9148 - val_loss: 0.4022 - val_acc: 0.8662\n",
      "Epoch 10/10\n",
      "20000/20000 [==============================] - 9s 469us/sample - loss: 0.2207 - acc: 0.9249 - val_loss: 0.4323 - val_acc: 0.8700\n"
     ]
    }
   ],
   "source": [
    "model.compile(optimizer=RMSprop(lr=1e-4), loss='binary_crossentropy',metrics=['acc'])\n",
    "history = model.fit(x_train, y_train, epochs=10, batch_size=128,validation_split=0.2)"
   ]
  },
  {
   "cell_type": "code",
   "execution_count": 7,
   "id": "loved-tooth",
   "metadata": {},
   "outputs": [],
   "source": [
    "# Save the summary to file\n",
    "summary_file = results_dir.joinpath('Assignment_10.4_ModelSummary.txt')\n",
    "with open(summary_file, 'w') as f:\n",
    "    with redirect_stdout(f):\n",
    "        model.summary()"
   ]
  },
  {
   "cell_type": "code",
   "execution_count": 8,
   "id": "adjustable-suggestion",
   "metadata": {},
   "outputs": [],
   "source": [
    "result_model_file = results_dir.joinpath('pre_trained_glove_model_1D_Convnet.h5')\n",
    "model.save_weights(result_model_file)"
   ]
  },
  {
   "cell_type": "code",
   "execution_count": 9,
   "id": "cultural-injection",
   "metadata": {},
   "outputs": [
    {
     "data": {
      "image/png": "[encoded data removed]",
      "text/plain": [
       "<Figure size 432x288 with 1 Axes>"
      ]
     },
     "metadata": {
      "needs_background": "light"
     },
     "output_type": "display_data"
    },
    {
     "data": {
      "image/png": "[encoded data removed]",
      "text/plain": [
       "<Figure size 432x288 with 1 Axes>"
      ]
     },
     "metadata": {
      "needs_background": "light"
     },
     "output_type": "display_data"
    }
   ],
   "source": [
    "# Place plot here\n",
    "acc = history.history['acc']\n",
    "val_acc = history.history['val_acc']\n",
    "loss = history.history['loss']\n",
    "val_loss = history.history['val_loss']\n",
    "epochs = range(1, len(acc) + 1)\n",
    "plt.plot(epochs, acc, 'bo', label='Training acc')\n",
    "plt.plot(epochs, val_acc, 'b', label='Validation acc')\n",
    "plt.title('Training and validation accuracy')\n",
    "plt.legend()\n",
    "plt.figure()\n",
    "plt.plot(epochs, loss, 'bo', label='Training loss')\n",
    "plt.plot(epochs, val_loss, 'b', label='Validation loss')\n",
    "plt.title('Training and validation loss')\n",
    "plt.legend()\n",
    "img_file = results_dir.joinpath('Assignment_10.4_Model Accuracy Validation.png')\n",
    "plt.savefig(img_file)\n",
    "plt.show()"
   ]
  },
  {
   "cell_type": "code",
   "execution_count": 10,
   "id": "satellite-dependence",
   "metadata": {},
   "outputs": [
    {
     "name": "stdout",
     "output_type": "stream",
     "text": [
      "\n",
      "[0.46091146278381345, 0.85872]\n"
     ]
    }
   ],
   "source": [
    "#save the model performance metrics and training and validation accuracy curves in the results/model_2 direc\n",
    "model.load_weights(result_model_file)\n",
    "eval = model.evaluate(x_test, y_test)\n",
    "print(\"\")\n",
    "print(eval)"
   ]
  },
  {
   "cell_type": "code",
   "execution_count": null,
   "id": "handed-jewel",
   "metadata": {},
   "outputs": [],
   "source": []
  }
 ],
 "metadata": {
  "kernelspec": {
   "display_name": "Python 3",
   "language": "python",
   "name": "python3"
  },
  "language_info": {
   "codemirror_mode": {
    "name": "ipython",
    "version": 3
   },
   "file_extension": ".py",
   "mimetype": "text/x-python",
   "name": "python",
   "nbconvert_exporter": "python",
   "pygments_lexer": "ipython3",
   "version": "3.8.8"
  }
 },
 "nbformat": 4,
 "nbformat_minor": 5
}
