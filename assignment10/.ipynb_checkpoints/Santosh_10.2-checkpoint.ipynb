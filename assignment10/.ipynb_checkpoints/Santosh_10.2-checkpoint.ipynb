{
 "cells": [
  {
   "cell_type": "code",
   "execution_count": 1,
   "id": "turned-lover",
   "metadata": {},
   "outputs": [],
   "source": [
    "from keras.preprocessing.text import Tokenizer\n",
    "from keras.preprocessing.sequence import pad_sequences\n",
    "import numpy as np\n",
    "import matplotlib.pyplot as plt\n",
    "from pathlib import Path\n",
    "from keras.models import Sequential\n",
    "from keras.layers import Embedding, Flatten, Dense\n",
    "import os\n",
    "from contextlib import redirect_stdout\n",
    "import time\n",
    "start_time = time.time()"
   ]
  },
  {
   "cell_type": "code",
   "execution_count": 2,
   "id": "above-coordination",
   "metadata": {},
   "outputs": [],
   "source": [
    "results_dir = Path('results').joinpath('model_1')\n",
    "results_dir.mkdir(parents=True, exist_ok=True)\n",
    "imdb_dir = Path('imdb/aclImdb/')\n",
    "test_dir = os.path.join(imdb_dir, 'test')\n",
    "train_dir = os.path.join(imdb_dir, 'train')"
   ]
  },
  {
   "cell_type": "code",
   "execution_count": 3,
   "id": "owned-contrast",
   "metadata": {},
   "outputs": [],
   "source": [
    "training_samples = 200\n",
    "maxlen = 100\n",
    "max_words = 1000\n",
    "embedding_dim = 100\n",
    "training_samples = 200\n",
    "validation_samples = 10000"
   ]
  },
  {
   "cell_type": "code",
   "execution_count": 4,
   "id": "extraordinary-politics",
   "metadata": {},
   "outputs": [],
   "source": [
    "labels = []\n",
    "texts = []\n",
    "for label_type in ['neg', 'pos']:\n",
    "    dir_name = os.path.join(test_dir, label_type)\n",
    "    for fname in sorted(os.listdir(dir_name)):\n",
    "        if fname[-4:] == '.txt':\n",
    "            f = open(os.path.join(dir_name, fname), encoding=\"utf8\")\n",
    "            texts.append(f.read())\n",
    "            f.close()\n",
    "            if label_type == 'neg':\n",
    "                labels.append(0)\n",
    "            else:\n",
    "                labels.append(1)"
   ]
  },
  {
   "cell_type": "code",
   "execution_count": 5,
   "id": "gross-narrative",
   "metadata": {},
   "outputs": [
    {
     "name": "stdout",
     "output_type": "stream",
     "text": [
      "Found 87393 unique tokens.\n",
      "Shape of data tensor: (25000, 100)\n",
      "Shape of label tensor: (25000,)\n"
     ]
    }
   ],
   "source": [
    "tokenizer = Tokenizer(num_words=max_words)\n",
    "tokenizer.fit_on_texts(texts)\n",
    "sequences = tokenizer.texts_to_sequences(texts)\n",
    "word_index = tokenizer.word_index\n",
    "print('Found %s unique tokens.' % len(word_index))\n",
    "data = pad_sequences(sequences, maxlen=maxlen)\n",
    "labels = np.asarray(labels)\n",
    "print('Shape of data tensor:', data.shape)\n",
    "print('Shape of label tensor:', labels.shape)"
   ]
  },
  {
   "cell_type": "code",
   "execution_count": 6,
   "id": "proprietary-citizenship",
   "metadata": {},
   "outputs": [],
   "source": [
    "indices = np.arange(data.shape[0])\n",
    "np.random.shuffle(indices)\n",
    "data = data[indices]\n",
    "labels = labels[indices]\n",
    "x_train = data[:training_samples]\n",
    "y_train = labels[:training_samples]\n",
    "x_val = data[training_samples: training_samples + validation_samples]\n",
    "y_val = labels[training_samples: training_samples + validation_samples]"
   ]
  },
  {
   "cell_type": "code",
   "execution_count": 7,
   "id": "outstanding-tactics",
   "metadata": {},
   "outputs": [],
   "source": [
    "model = Sequential()\n",
    "model.add(Embedding(max_words, embedding_dim, input_length=maxlen))\n",
    "model.add(Flatten())\n",
    "model.add(Dense(32,activation='relu'))\n",
    "model.add(Dense(1, activation='sigmoid'))"
   ]
  },
  {
   "cell_type": "code",
   "execution_count": 9,
   "id": "neutral-ghost",
   "metadata": {},
   "outputs": [
    {
     "name": "stdout",
     "output_type": "stream",
     "text": [
      "Epoch 1/10\n",
      "7/7 [==============================] - 1s 158ms/step - loss: 0.6907 - acc: 0.5451 - val_loss: 0.6937 - val_acc: 0.5128\n",
      "Epoch 2/10\n",
      "7/7 [==============================] - 1s 98ms/step - loss: 0.5506 - acc: 0.9744 - val_loss: 0.6940 - val_acc: 0.5194\n",
      "Epoch 3/10\n",
      "7/7 [==============================] - 1s 100ms/step - loss: 0.3728 - acc: 0.9973 - val_loss: 0.6989 - val_acc: 0.5214\n",
      "Epoch 4/10\n",
      "7/7 [==============================] - 1s 97ms/step - loss: 0.2098 - acc: 1.0000 - val_loss: 0.7047 - val_acc: 0.5217\n",
      "Epoch 5/10\n",
      "7/7 [==============================] - 1s 104ms/step - loss: 0.1083 - acc: 1.0000 - val_loss: 0.7372 - val_acc: 0.5264\n",
      "Epoch 6/10\n",
      "7/7 [==============================] - 1s 107ms/step - loss: 0.0691 - acc: 1.0000 - val_loss: 0.7176 - val_acc: 0.5284\n",
      "Epoch 7/10\n",
      "7/7 [==============================] - 1s 100ms/step - loss: 0.0346 - acc: 1.0000 - val_loss: 0.7365 - val_acc: 0.5287\n",
      "Epoch 8/10\n",
      "7/7 [==============================] - 1s 101ms/step - loss: 0.0216 - acc: 1.0000 - val_loss: 0.7564 - val_acc: 0.5275\n",
      "Epoch 9/10\n",
      "7/7 [==============================] - 1s 100ms/step - loss: 0.0133 - acc: 1.0000 - val_loss: 0.7726 - val_acc: 0.5298\n",
      "Epoch 10/10\n",
      "7/7 [==============================] - 1s 92ms/step - loss: 0.0080 - acc: 1.0000 - val_loss: 0.8027 - val_acc: 0.5298\n"
     ]
    }
   ],
   "source": [
    "# Save the summary to file\n",
    "summary_file = results_dir.joinpath('Assignment_10.2_ModelSummary.txt')\n",
    "with open(summary_file, 'w') as f:\n",
    "    with redirect_stdout(f):\n",
    "        model.summary()\n",
    "model.compile(optimizer='rmsprop', loss='binary_crossentropy', metrics=['acc'])\n",
    "history=model.fit(x_train, y_train, epochs=10, batch_size=32,validation_data=(x_val, y_val))\n",
    "result_model_file = results_dir.joinpath('pre_trained_glove_model.h5')\n",
    "model.save_weights(result_model_file)"
   ]
  },
  {
   "cell_type": "code",
   "execution_count": 10,
   "id": "referenced-firmware",
   "metadata": {},
   "outputs": [
    {
     "data": {
      "image/png": "[encoded data removed]",
      "text/plain": [
       "<Figure size 432x288 with 1 Axes>"
      ]
     },
     "metadata": {
      "needs_background": "light"
     },
     "output_type": "display_data"
    },
    {
     "data": {
      "image/png": "[encoded data removed]",
      "text/plain": [
       "<Figure size 432x288 with 1 Axes>"
      ]
     },
     "metadata": {
      "needs_background": "light"
     },
     "output_type": "display_data"
    }
   ],
   "source": [
    " # Place plot here\n",
    "acc = history.history['acc']\n",
    "val_acc = history.history['val_acc']\n",
    "loss = history.history['loss']\n",
    "val_loss = history.history['val_loss']\n",
    "epochs = range(1, len(acc) + 1)\n",
    "plt.plot(epochs, acc, 'bo', label='Training acc')\n",
    "plt.plot(epochs, val_acc, 'b', label='Validation acc')\n",
    "plt.title('Training and validation accuracy')\n",
    "plt.legend()\n",
    "plt.figure()\n",
    "plt.plot(epochs, loss, 'bo', label='Training loss')\n",
    "plt.plot(epochs, val_loss, 'b', label='Validation loss')\n",
    "plt.title('Training and validation loss')\n",
    "plt.legend()\n",
    "img_file = results_dir.joinpath('Assignment_10.2_Model Accuracy Validation.png')\n",
    "plt.savefig(img_file)\n",
    "plt.show()"
   ]
  },
  {
   "cell_type": "code",
   "execution_count": 11,
   "id": "exact-profession",
   "metadata": {},
   "outputs": [
    {
     "name": "stdout",
     "output_type": "stream",
     "text": [
      "782/782 [==============================] - 2s 2ms/step - loss: 0.8052 - acc: 0.5270\n",
      "\n",
      "[0.8052107691764832, 0.5270400047302246]\n",
      "Complete: --- 113.56341886520386 seconds has passed ---\n"
     ]
    }
   ],
   "source": [
    "labels=[]\n",
    "texts=[]\n",
    "for label_type in ['neg', 'pos']:\n",
    "    dir_name = os.path.join(test_dir, label_type)\n",
    "    for fname in sorted(os.listdir(dir_name)):\n",
    "        if fname[-4:] == '.txt':\n",
    "            f = open(os.path.join(dir_name, fname), encoding=\"utf8\")\n",
    "            texts.append(f.read())\n",
    "            f.close()\n",
    "            if label_type == 'neg':\n",
    "                labels.append(0)\n",
    "            else:\n",
    "                labels.append(1)\n",
    "                \n",
    "sequence = tokenizer.texts_to_sequences(texts)\n",
    "x_test = pad_sequences(sequences, maxlen=maxlen)\n",
    "y_test = np.asarray(labels)\n",
    "model.load_weights(result_model_file)\n",
    "eval = model.evaluate(x_test, y_test)\n",
    "print(\"\")\n",
    "print(eval)\n",
    "print(\"Complete: --- %s seconds has passed ---\" % (time.time() - start_time))"
   ]
  },
  {
   "cell_type": "code",
   "execution_count": null,
   "id": "differential-baseline",
   "metadata": {},
   "outputs": [],
   "source": []
  }
 ],
 "metadata": {
  "kernelspec": {
   "display_name": "Python 3",
   "language": "python",
   "name": "python3"
  },
  "language_info": {
   "codemirror_mode": {
    "name": "ipython",
    "version": 3
   },
   "file_extension": ".py",
   "mimetype": "text/x-python",
   "name": "python",
   "nbconvert_exporter": "python",
   "pygments_lexer": "ipython3",
   "version": "3.8.8"
  }
 },
 "nbformat": 4,
 "nbformat_minor": 5
}
