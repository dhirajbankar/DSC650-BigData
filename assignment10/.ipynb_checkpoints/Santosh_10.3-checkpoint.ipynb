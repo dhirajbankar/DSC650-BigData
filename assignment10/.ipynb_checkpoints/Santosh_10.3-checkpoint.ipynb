{
 "cells": [
  {
   "cell_type": "code",
   "execution_count": 1,
   "id": "unlike-judge",
   "metadata": {},
   "outputs": [
    {
     "name": "stdout",
     "output_type": "stream",
     "text": [
      "WARNING:tensorflow:From /opt/conda/lib/python3.8/site-packages/tensorflow/python/compat/v2_compat.py:96: disable_resource_variables (from tensorflow.python.ops.variable_scope) is deprecated and will be removed in a future version.\n",
      "Instructions for updating:\n",
      "non-resource variables are not supported in the long term\n"
     ]
    }
   ],
   "source": [
    "import tensorflow.compat.v1 as tf\n",
    "tf.disable_v2_behavior()\n",
    "from keras.preprocessing.text import Tokenizer\n",
    "from keras.preprocessing.sequence import pad_sequences\n",
    "import numpy as np\n",
    "import matplotlib.pyplot as plt\n",
    "from pathlib import Path\n",
    "from keras.models import Sequential\n",
    "from keras.layers import Embedding, Flatten, Dense\n",
    "import os\n",
    "from contextlib import redirect_stdout\n",
    "import time\n",
    "start_time = time.time()\n",
    "from keras.layers import LSTM\n",
    "# Needed the following as caused CUDA DNN errors\n",
    "#physical_devices = tf.config.list_physical_devices('GPU')\n",
    "#tf.config.experimental.set_memory_growth(physical_devices[0], True)\n",
    "from keras.datasets import imdb\n",
    "from keras.preprocessing import sequence"
   ]
  },
  {
   "cell_type": "code",
   "execution_count": 2,
   "id": "african-cathedral",
   "metadata": {},
   "outputs": [],
   "source": [
    "imdb_dir = Path('imdb/aclImdb/')\n",
    "test_dir = os.path.join(imdb_dir, 'test')\n",
    "train_dir = os.path.join(imdb_dir, 'train')\n",
    "results_dir = Path('results').joinpath('model_1')\n",
    "results_dir.mkdir(parents=True, exist_ok=True)"
   ]
  },
  {
   "cell_type": "code",
   "execution_count": 3,
   "id": "loose-mexico",
   "metadata": {},
   "outputs": [],
   "source": [
    "max_features = 10000\n",
    "maxlen = 500\n",
    "batch_size = 32\n",
    "max_words = 1000\n",
    "training_samples = 200\n",
    "validation_samples = 10000"
   ]
  },
  {
   "cell_type": "code",
   "execution_count": 5,
   "id": "premium-robin",
   "metadata": {},
   "outputs": [],
   "source": [
    "labels = []\n",
    "texts = []\n",
    "for label_type in ['neg', 'pos']:\n",
    "    dir_name = os.path.join(test_dir, label_type)\n",
    "    for fname in sorted(os.listdir(dir_name)):\n",
    "        if fname[-4:] == '.txt':\n",
    "            f = open(os.path.join(dir_name, fname), encoding=\"utf8\")\n",
    "            texts.append(f.read())\n",
    "            f.close()\n",
    "            if label_type == 'neg':\n",
    "                labels.append(0)\n",
    "            else:\n",
    "                labels.append(1)"
   ]
  },
  {
   "cell_type": "code",
   "execution_count": 6,
   "id": "wicked-drink",
   "metadata": {},
   "outputs": [
    {
     "name": "stdout",
     "output_type": "stream",
     "text": [
      "Loading data... \n",
      "Found 87393 unique tokens.\n",
      "Shape of data tensor: (25000, 500)\n",
      "Shape of label tensor: (25000,)\n"
     ]
    }
   ],
   "source": [
    "tokenizer = Tokenizer(num_words=max_words)\n",
    "tokenizer.fit_on_texts(texts)\n",
    "sequences = tokenizer.texts_to_sequences(texts)\n",
    "print('Loading data... ')\n",
    "word_index = tokenizer.word_index\n",
    "print('Found %s unique tokens.' % len(word_index))\n",
    "data = pad_sequences(sequences, maxlen=maxlen)\n",
    "labels = np.asarray(labels)\n",
    "print('Shape of data tensor:', data.shape)\n",
    "print('Shape of label tensor:', labels.shape)\n",
    "indices = np.arange(data.shape[0])\n",
    "np.random.shuffle(indices)\n",
    "data = data[indices]\n",
    "labels = labels[indices]"
   ]
  },
  {
   "cell_type": "code",
   "execution_count": 7,
   "id": "dental-fifth",
   "metadata": {},
   "outputs": [
    {
     "name": "stdout",
     "output_type": "stream",
     "text": [
      "input_train shape: (200, 500)\n",
      "input_test shape: (10000, 500)\n"
     ]
    }
   ],
   "source": [
    "#x_train\n",
    "input_train = data[:training_samples]\n",
    "#y_train\n",
    "y_train = labels[:training_samples]\n",
    "#x_val\n",
    "input_test = data[training_samples: training_samples + validation_samples]\n",
    "#y_val\n",
    "y_test = labels[training_samples: training_samples + validation_samples]\n",
    "print('input_train shape:', input_train.shape)\n",
    "print('input_test shape:', input_test.shape)"
   ]
  },
  {
   "cell_type": "code",
   "execution_count": 8,
   "id": "exclusive-series",
   "metadata": {},
   "outputs": [
    {
     "name": "stdout",
     "output_type": "stream",
     "text": [
      "WARNING:tensorflow:From /opt/conda/lib/python3.8/site-packages/tensorflow/python/keras/initializers/initializers_v1.py:58: calling RandomUniform.__init__ (from tensorflow.python.ops.init_ops) with dtype is deprecated and will be removed in a future version.\n",
      "Instructions for updating:\n",
      "Call initializer instance with the dtype argument instead of passing it to the constructor\n",
      "Train on 200 samples, validate on 10000 samples\n",
      "Epoch 1/10\n",
      "200/200 [==============================] - ETA: 0s - loss: 0.6937 - acc: 0.4850"
     ]
    },
    {
     "name": "stderr",
     "output_type": "stream",
     "text": [
      "/opt/conda/lib/python3.8/site-packages/tensorflow/python/keras/engine/training.py:2325: UserWarning: `Model.state_updates` will be removed in a future version. This property should not be used in TensorFlow 2.0, as `updates` are applied automatically.\n",
      "  warnings.warn('`Model.state_updates` will be removed in a future version. '\n"
     ]
    },
    {
     "name": "stdout",
     "output_type": "stream",
     "text": [
      "200/200 [==============================] - 23s 115ms/sample - loss: 0.6937 - acc: 0.4850 - val_loss: 0.6929 - val_acc: 0.5180\n",
      "Epoch 2/10\n",
      "200/200 [==============================] - 22s 111ms/sample - loss: 0.6881 - acc: 0.7250 - val_loss: 0.6922 - val_acc: 0.5415\n",
      "Epoch 3/10\n",
      "200/200 [==============================] - 22s 112ms/sample - loss: 0.6803 - acc: 0.7400 - val_loss: 0.6899 - val_acc: 0.5119\n",
      "Epoch 4/10\n",
      "200/200 [==============================] - 22s 110ms/sample - loss: 0.6442 - acc: 0.7500 - val_loss: 0.6842 - val_acc: 0.5736\n",
      "Epoch 5/10\n",
      "200/200 [==============================] - 22s 111ms/sample - loss: 0.6651 - acc: 0.6750 - val_loss: 0.6786 - val_acc: 0.6140\n",
      "Epoch 6/10\n",
      "200/200 [==============================] - 22s 109ms/sample - loss: 0.6131 - acc: 0.8400 - val_loss: 0.6699 - val_acc: 0.6213\n",
      "Epoch 7/10\n",
      "200/200 [==============================] - 22s 108ms/sample - loss: 0.5503 - acc: 0.8500 - val_loss: 0.6606 - val_acc: 0.6391\n",
      "Epoch 8/10\n",
      "200/200 [==============================] - 21s 104ms/sample - loss: 0.5279 - acc: 0.8800 - val_loss: 0.6675 - val_acc: 0.5998\n",
      "Epoch 9/10\n",
      "200/200 [==============================] - 21s 105ms/sample - loss: 0.4536 - acc: 0.9150 - val_loss: 0.9446 - val_acc: 0.5152\n",
      "Epoch 10/10\n",
      "200/200 [==============================] - 20s 102ms/sample - loss: 0.4545 - acc: 0.8750 - val_loss: 0.6406 - val_acc: 0.6457\n"
     ]
    }
   ],
   "source": [
    "model = Sequential()\n",
    "model.add(Embedding(max_features, 32))\n",
    "model.add(LSTM(32))\n",
    "model.add(Dense(1, activation='sigmoid'))\n",
    "model.compile(optimizer='rmsprop', loss='binary_crossentropy', metrics=['acc'])\n",
    "history=model.fit(input_train, y_train, epochs=10, batch_size=32,validation_data=(input_test, y_test))\n",
    "result_model_file = results_dir.joinpath('pre_trained_glove_model_LSTM.h5')\n",
    "model.save_weights(result_model_file)"
   ]
  },
  {
   "cell_type": "code",
   "execution_count": 9,
   "id": "boring-viking",
   "metadata": {},
   "outputs": [],
   "source": [
    "# Save the summary to file\n",
    "summary_file = results_dir.joinpath('Assignment_10.3_ModelSummary.txt')\n",
    "with open(summary_file, 'w') as f:\n",
    "    with redirect_stdout(f):\n",
    "        model.summary()"
   ]
  },
  {
   "cell_type": "code",
   "execution_count": 10,
   "id": "tough-output",
   "metadata": {},
   "outputs": [
    {
     "data": {
      "image/png": "[encoded data removed]",
      "text/plain": [
       "<Figure size 432x288 with 1 Axes>"
      ]
     },
     "metadata": {
      "needs_background": "light"
     },
     "output_type": "display_data"
    },
    {
     "data": {
      "image/png": "[encoded data removed]",
      "text/plain": [
       "<Figure size 432x288 with 1 Axes>"
      ]
     },
     "metadata": {
      "needs_background": "light"
     },
     "output_type": "display_data"
    }
   ],
   "source": [
    "# Place plot here\n",
    "acc = history.history['acc']\n",
    "val_acc = history.history['val_acc']\n",
    "loss = history.history['loss']\n",
    "val_loss = history.history['val_loss']\n",
    "epochs = range(1, len(acc) + 1)\n",
    "plt.plot(epochs, acc, 'bo', label='Training acc')\n",
    "plt.plot(epochs, val_acc, 'b', label='Validation acc')\n",
    "plt.title('Training and validation accuracy')\n",
    "plt.legend()\n",
    "plt.figure()\n",
    "plt.plot(epochs, loss, 'bo', label='Training loss')\n",
    "plt.plot(epochs, val_loss, 'b', label='Validation loss')\n",
    "plt.title('Training and validation loss')\n",
    "plt.legend()\n",
    "img_file = results_dir.joinpath('Assignment_10.3_Model Accuracy Validation.png')\n",
    "plt.savefig(img_file)\n",
    "plt.show()"
   ]
  },
  {
   "cell_type": "code",
   "execution_count": null,
   "id": "interested-grace",
   "metadata": {},
   "outputs": [],
   "source": []
  }
 ],
 "metadata": {
  "kernelspec": {
   "display_name": "Python 3",
   "language": "python",
   "name": "python3"
  },
  "language_info": {
   "codemirror_mode": {
    "name": "ipython",
    "version": 3
   },
   "file_extension": ".py",
   "mimetype": "text/x-python",
   "name": "python",
   "nbconvert_exporter": "python",
   "pygments_lexer": "ipython3",
   "version": "3.8.8"
  }
 },
 "nbformat": 4,
 "nbformat_minor": 5
}
